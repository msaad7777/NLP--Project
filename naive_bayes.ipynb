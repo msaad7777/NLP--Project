{
 "cells": [
  {
   "cell_type": "code",
   "execution_count": 1,
   "id": "8651286a",
   "metadata": {},
   "outputs": [],
   "source": [
    "import nltk\n",
    "from nltk.corpus import stopwords\n",
    "from nltk.tokenize import word_tokenize, RegexpTokenizer\n",
    "import pickle\n",
    "import pandas as pd\n",
    "from tqdm import tqdm\n",
    "# import seaborn as sns\n",
    "import matplotlib.pyplot as plt\n",
    "import seaborn as sns\n",
    "from sklearn.naive_bayes import MultinomialNB\n",
    "from sklearn.model_selection import cross_val_score\n",
    "from sklearn.feature_extraction.text import CountVectorizer,TfidfTransformer\n",
    "from sklearn.model_selection import StratifiedKFold\n",
    "from sklearn.metrics import accuracy_score, confusion_matrix\n",
    "import re\n",
    "%matplotlib inline"
   ]
  },
  {
   "cell_type": "markdown",
   "id": "6d9a4a64",
   "metadata": {},
   "source": [
    "# Data Cleaning & Exploration"
   ]
  },
  {
   "cell_type": "code",
   "execution_count": 3,
   "id": "8df84b39",
   "metadata": {},
   "outputs": [],
   "source": [
    "data = pd.read_csv(\"./input/Youtube03-LMFAO.csv\")"
   ]
  },
  {
   "cell_type": "code",
   "execution_count": 4,
   "id": "2bbfbbb9",
   "metadata": {},
   "outputs": [
    {
     "data": {
      "text/plain": [
       "(438, 5)"
      ]
     },
     "execution_count": 4,
     "metadata": {},
     "output_type": "execute_result"
    }
   ],
   "source": [
    "data.shape"
   ]
  },
  {
   "cell_type": "code",
   "execution_count": 5,
   "id": "8b0b0dea",
   "metadata": {},
   "outputs": [
    {
     "data": {
      "text/html": [
       "<div>\n",
       "<style scoped>\n",
       "    .dataframe tbody tr th:only-of-type {\n",
       "        vertical-align: middle;\n",
       "    }\n",
       "\n",
       "    .dataframe tbody tr th {\n",
       "        vertical-align: top;\n",
       "    }\n",
       "\n",
       "    .dataframe thead th {\n",
       "        text-align: right;\n",
       "    }\n",
       "</style>\n",
       "<table border=\"1\" class=\"dataframe\">\n",
       "  <thead>\n",
       "    <tr style=\"text-align: right;\">\n",
       "      <th></th>\n",
       "      <th>COMMENT_ID</th>\n",
       "      <th>AUTHOR</th>\n",
       "      <th>DATE</th>\n",
       "      <th>CONTENT</th>\n",
       "      <th>CLASS</th>\n",
       "    </tr>\n",
       "  </thead>\n",
       "  <tbody>\n",
       "    <tr>\n",
       "      <th>0</th>\n",
       "      <td>z13uwn2heqndtr5g304ccv5j5kqqzxjadmc0k</td>\n",
       "      <td>Corey Wilson</td>\n",
       "      <td>2015-05-28T21:39:52.376000</td>\n",
       "      <td>&lt;a href=\"http://www.youtube.com/watch?v=KQ6zr6...</td>\n",
       "      <td>0</td>\n",
       "    </tr>\n",
       "    <tr>\n",
       "      <th>1</th>\n",
       "      <td>z124jvczaz3dxhnbc04cffk43oiugj25yzo0k</td>\n",
       "      <td>Epic Gaming</td>\n",
       "      <td>2015-05-28T20:07:20.610000</td>\n",
       "      <td>wierd but funny﻿</td>\n",
       "      <td>0</td>\n",
       "    </tr>\n",
       "    <tr>\n",
       "      <th>2</th>\n",
       "      <td>z13tczjy5xj0vjmu5231unho1ofey5zdk</td>\n",
       "      <td>LaS Music</td>\n",
       "      <td>2015-05-28T19:23:35.355000</td>\n",
       "      <td>Hey guys, I&amp;#39;m a human.&lt;br /&gt;&lt;br /&gt;&lt;br /&gt;Bu...</td>\n",
       "      <td>1</td>\n",
       "    </tr>\n",
       "    <tr>\n",
       "      <th>3</th>\n",
       "      <td>z13tzr0hdpnayhqqc04cd3zqqqjkf3ngckk0k</td>\n",
       "      <td>Cheryl Fox</td>\n",
       "      <td>2015-05-28T17:49:35.294000</td>\n",
       "      <td>Party Rock....lol...who wants to shuffle!!!﻿</td>\n",
       "      <td>0</td>\n",
       "    </tr>\n",
       "    <tr>\n",
       "      <th>4</th>\n",
       "      <td>z12pcvix4zedcjvyb04ccr1r0mr2g5xwyng0k</td>\n",
       "      <td>PATRICK_TW</td>\n",
       "      <td>2015-05-28T16:28:26.818000</td>\n",
       "      <td>Party rock﻿</td>\n",
       "      <td>0</td>\n",
       "    </tr>\n",
       "  </tbody>\n",
       "</table>\n",
       "</div>"
      ],
      "text/plain": [
       "                              COMMENT_ID        AUTHOR  \\\n",
       "0  z13uwn2heqndtr5g304ccv5j5kqqzxjadmc0k  Corey Wilson   \n",
       "1  z124jvczaz3dxhnbc04cffk43oiugj25yzo0k   Epic Gaming   \n",
       "2      z13tczjy5xj0vjmu5231unho1ofey5zdk     LaS Music   \n",
       "3  z13tzr0hdpnayhqqc04cd3zqqqjkf3ngckk0k    Cheryl Fox   \n",
       "4  z12pcvix4zedcjvyb04ccr1r0mr2g5xwyng0k    PATRICK_TW   \n",
       "\n",
       "                         DATE  \\\n",
       "0  2015-05-28T21:39:52.376000   \n",
       "1  2015-05-28T20:07:20.610000   \n",
       "2  2015-05-28T19:23:35.355000   \n",
       "3  2015-05-28T17:49:35.294000   \n",
       "4  2015-05-28T16:28:26.818000   \n",
       "\n",
       "                                             CONTENT  CLASS  \n",
       "0  <a href=\"http://www.youtube.com/watch?v=KQ6zr6...      0  \n",
       "1                                   wierd but funny﻿      0  \n",
       "2  Hey guys, I&#39;m a human.<br /><br /><br />Bu...      1  \n",
       "3       Party Rock....lol...who wants to shuffle!!!﻿      0  \n",
       "4                                        Party rock﻿      0  "
      ]
     },
     "execution_count": 5,
     "metadata": {},
     "output_type": "execute_result"
    }
   ],
   "source": [
    "data.head()"
   ]
  },
  {
   "cell_type": "code",
   "execution_count": 6,
   "id": "232fda21",
   "metadata": {},
   "outputs": [
    {
     "data": {
      "text/plain": [
       "'2011- the last year of decent music.\\ufeff'"
      ]
     },
     "execution_count": 6,
     "metadata": {},
     "output_type": "execute_result"
    }
   ],
   "source": [
    "data[\"CONTENT\"][13]"
   ]
  },
  {
   "cell_type": "code",
   "execution_count": 7,
   "id": "c1fe71f3",
   "metadata": {},
   "outputs": [
    {
     "data": {
      "text/plain": [
       "0"
      ]
     },
     "execution_count": 7,
     "metadata": {},
     "output_type": "execute_result"
    }
   ],
   "source": [
    "data[\"CLASS\"][13]"
   ]
  },
  {
   "cell_type": "code",
   "execution_count": 8,
   "id": "31856b98",
   "metadata": {},
   "outputs": [
    {
     "data": {
      "text/plain": [
       "'Check out this video on YouTube:\\ufeff'"
      ]
     },
     "execution_count": 8,
     "metadata": {},
     "output_type": "execute_result"
    }
   ],
   "source": [
    "data[\"CONTENT\"][401]"
   ]
  },
  {
   "cell_type": "code",
   "execution_count": 9,
   "id": "b67fe52c",
   "metadata": {},
   "outputs": [
    {
     "data": {
      "text/plain": [
       "1"
      ]
     },
     "execution_count": 9,
     "metadata": {},
     "output_type": "execute_result"
    }
   ],
   "source": [
    "data[\"CLASS\"][401]"
   ]
  },
  {
   "cell_type": "markdown",
   "id": "fed95ca1",
   "metadata": {},
   "source": [
    "### Select only 'CONTENT' and 'CLASS' columns"
   ]
  },
  {
   "cell_type": "code",
   "execution_count": 10,
   "id": "28c67ba7",
   "metadata": {},
   "outputs": [],
   "source": [
    "data = data[[\"CONTENT\", \"CLASS\"]]"
   ]
  },
  {
   "cell_type": "code",
   "execution_count": 11,
   "id": "74d6a8c6",
   "metadata": {},
   "outputs": [
    {
     "data": {
      "text/html": [
       "<div>\n",
       "<style scoped>\n",
       "    .dataframe tbody tr th:only-of-type {\n",
       "        vertical-align: middle;\n",
       "    }\n",
       "\n",
       "    .dataframe tbody tr th {\n",
       "        vertical-align: top;\n",
       "    }\n",
       "\n",
       "    .dataframe thead th {\n",
       "        text-align: right;\n",
       "    }\n",
       "</style>\n",
       "<table border=\"1\" class=\"dataframe\">\n",
       "  <thead>\n",
       "    <tr style=\"text-align: right;\">\n",
       "      <th></th>\n",
       "      <th>CONTENT</th>\n",
       "      <th>CLASS</th>\n",
       "    </tr>\n",
       "  </thead>\n",
       "  <tbody>\n",
       "    <tr>\n",
       "      <th>0</th>\n",
       "      <td>&lt;a href=\"http://www.youtube.com/watch?v=KQ6zr6...</td>\n",
       "      <td>0</td>\n",
       "    </tr>\n",
       "    <tr>\n",
       "      <th>1</th>\n",
       "      <td>wierd but funny﻿</td>\n",
       "      <td>0</td>\n",
       "    </tr>\n",
       "    <tr>\n",
       "      <th>2</th>\n",
       "      <td>Hey guys, I&amp;#39;m a human.&lt;br /&gt;&lt;br /&gt;&lt;br /&gt;Bu...</td>\n",
       "      <td>1</td>\n",
       "    </tr>\n",
       "    <tr>\n",
       "      <th>3</th>\n",
       "      <td>Party Rock....lol...who wants to shuffle!!!﻿</td>\n",
       "      <td>0</td>\n",
       "    </tr>\n",
       "    <tr>\n",
       "      <th>4</th>\n",
       "      <td>Party rock﻿</td>\n",
       "      <td>0</td>\n",
       "    </tr>\n",
       "  </tbody>\n",
       "</table>\n",
       "</div>"
      ],
      "text/plain": [
       "                                             CONTENT  CLASS\n",
       "0  <a href=\"http://www.youtube.com/watch?v=KQ6zr6...      0\n",
       "1                                   wierd but funny﻿      0\n",
       "2  Hey guys, I&#39;m a human.<br /><br /><br />Bu...      1\n",
       "3       Party Rock....lol...who wants to shuffle!!!﻿      0\n",
       "4                                        Party rock﻿      0"
      ]
     },
     "execution_count": 11,
     "metadata": {},
     "output_type": "execute_result"
    }
   ],
   "source": [
    "data.head()"
   ]
  },
  {
   "cell_type": "code",
   "execution_count": 12,
   "id": "7776d736",
   "metadata": {},
   "outputs": [
    {
     "data": {
      "text/plain": [
       "CONTENT    0\n",
       "CLASS      0\n",
       "dtype: int64"
      ]
     },
     "execution_count": 12,
     "metadata": {},
     "output_type": "execute_result"
    }
   ],
   "source": [
    "data.isna().sum()"
   ]
  },
  {
   "cell_type": "markdown",
   "id": "335ddcf3",
   "metadata": {},
   "source": [
    "### Drop records with missing complaints"
   ]
  },
  {
   "cell_type": "code",
   "execution_count": 13,
   "id": "b41c8e33",
   "metadata": {},
   "outputs": [],
   "source": [
    "data.dropna(inplace=True)"
   ]
  },
  {
   "cell_type": "code",
   "execution_count": 14,
   "id": "093a1f89",
   "metadata": {},
   "outputs": [
    {
     "data": {
      "text/plain": [
       "(438, 2)"
      ]
     },
     "execution_count": 14,
     "metadata": {},
     "output_type": "execute_result"
    }
   ],
   "source": [
    "data.shape"
   ]
  },
  {
   "cell_type": "code",
   "execution_count": 15,
   "id": "759169cd",
   "metadata": {},
   "outputs": [],
   "source": [
    "data.rename({\"CONTENT\": \"COMMENT\"}, \n",
    "            axis=1, inplace=True)"
   ]
  },
  {
   "cell_type": "code",
   "execution_count": 16,
   "id": "cb856432",
   "metadata": {},
   "outputs": [
    {
     "data": {
      "text/html": [
       "<div>\n",
       "<style scoped>\n",
       "    .dataframe tbody tr th:only-of-type {\n",
       "        vertical-align: middle;\n",
       "    }\n",
       "\n",
       "    .dataframe tbody tr th {\n",
       "        vertical-align: top;\n",
       "    }\n",
       "\n",
       "    .dataframe thead th {\n",
       "        text-align: right;\n",
       "    }\n",
       "</style>\n",
       "<table border=\"1\" class=\"dataframe\">\n",
       "  <thead>\n",
       "    <tr style=\"text-align: right;\">\n",
       "      <th></th>\n",
       "      <th>COMMENT</th>\n",
       "      <th>CLASS</th>\n",
       "    </tr>\n",
       "  </thead>\n",
       "  <tbody>\n",
       "    <tr>\n",
       "      <th>0</th>\n",
       "      <td>&lt;a href=\"http://www.youtube.com/watch?v=KQ6zr6...</td>\n",
       "      <td>0</td>\n",
       "    </tr>\n",
       "    <tr>\n",
       "      <th>1</th>\n",
       "      <td>wierd but funny﻿</td>\n",
       "      <td>0</td>\n",
       "    </tr>\n",
       "    <tr>\n",
       "      <th>2</th>\n",
       "      <td>Hey guys, I&amp;#39;m a human.&lt;br /&gt;&lt;br /&gt;&lt;br /&gt;Bu...</td>\n",
       "      <td>1</td>\n",
       "    </tr>\n",
       "    <tr>\n",
       "      <th>3</th>\n",
       "      <td>Party Rock....lol...who wants to shuffle!!!﻿</td>\n",
       "      <td>0</td>\n",
       "    </tr>\n",
       "    <tr>\n",
       "      <th>4</th>\n",
       "      <td>Party rock﻿</td>\n",
       "      <td>0</td>\n",
       "    </tr>\n",
       "  </tbody>\n",
       "</table>\n",
       "</div>"
      ],
      "text/plain": [
       "                                             COMMENT  CLASS\n",
       "0  <a href=\"http://www.youtube.com/watch?v=KQ6zr6...      0\n",
       "1                                   wierd but funny﻿      0\n",
       "2  Hey guys, I&#39;m a human.<br /><br /><br />Bu...      1\n",
       "3       Party Rock....lol...who wants to shuffle!!!﻿      0\n",
       "4                                        Party rock﻿      0"
      ]
     },
     "execution_count": 16,
     "metadata": {},
     "output_type": "execute_result"
    }
   ],
   "source": [
    "data.head()"
   ]
  },
  {
   "cell_type": "code",
   "execution_count": 17,
   "id": "28ae91c9",
   "metadata": {},
   "outputs": [
    {
     "data": {
      "text/plain": [
       "array(['<a href=\"http://www.youtube.com/watch?v=KQ6zr6kCPj8&amp;t=2m19s\">2:19</a> best part\\ufeff',\n",
       "       'wierd but funny\\ufeff',\n",
       "       'Hey guys, I&#39;m a human.<br /><br /><br />But I don&#39;t want to be a human, I want to be a sexy fucking giraffe.<br /><br /><br />I already have the money for the surgery to elongate my spinal core, the surgery to change my skin pigment, and everything else! Like this post so others can root me on in my dream!!!!<br /><br /><br />Im fucking with you, I make music, check out my first song! <a rel=\"nofollow\" class=\"ot-hashtag\" href=\"https://plus.google.com/s/%23giraffebruuh\">#giraffebruuh</a>\\ufeff',\n",
       "       'Party Rock....lol...who wants to shuffle!!!\\ufeff',\n",
       "       'Party rock\\ufeff', 'Shuffle\\ufeff', 'Omg\\ufeff',\n",
       "       'This song is just really fun \\ufeff', 'Awsome<br />\\ufeff',\n",
       "       'wow!!!!!! increible song!!!!!!!!!\\ufeff',\n",
       "       'I love this song so much\\ufeff', '2015 LIKEEE\\ufeff',\n",
       "       'I miss when people dressed like this.\\ufeff',\n",
       "       '2011- the last year of decent music.\\ufeff',\n",
       "       'Best song ever!!!!\\ufeff', 'super nice, love musique\\ufeff',\n",
       "       'wowwwwwwwwwwwwwwwwwwwwwwwwwwwwww\\ufeff', 'PARTY ROCK (8) ~\\ufeff',\n",
       "       'Thumbs up if you watched it in 2011\\ufeff',\n",
       "       'this is increidebl\\ufeff', 'LMFAO!!!!!!!!\\ufeff',\n",
       "       'just :( superr!!!\\ufeff', '2015!! LLIKEE!!\\ufeff',\n",
       "       'Yeah! Let&#39;s start the party!\\ufeff',\n",
       "       'This awesome song needed 4 years to reach to 800 mil views while Tango Switch bitch needed 1 year. its not fairrrrrrr\\ufeff',\n",
       "       'NICE GIRL :D\\ufeff',\n",
       "       'I remember back when this was so popular everyone on our school was shuffling it was crazy\\ufeff',\n",
       "       'LMFAO!\\ufeff', 'Super awesome video<br />\\ufeff',\n",
       "       'JUST DANCE 3 😂😂😂\\ufeff',\n",
       "       'This Will Always Be My Favorite Song<br />But My Favorite Part Is <a href=\"http://www.youtube.com/watch?v=KQ6zr6kCPj8&amp;t=3m40s\">3:40</a>-<a href=\"http://www.youtube.com/watch?v=KQ6zr6kCPj8&amp;t=4m11s\">4:11</a> In The Video \\ufeff',\n",
       "       'Party Rock<br />\\ufeff',\n",
       "       'LMFAO - Party Rock Anthem ft. Lauren Bennett, Goo…: <a href=\"https://youtu.be/KQ6zr6kCPj8\">https://youtu.be/KQ6zr6kCPj8</a>     <br />BOX MAN GOT SOME MOVES! :D HE MAKES MEH SMILE\\ufeff',\n",
       "       'This the best song i ever hire<br />\\ufeff',\n",
       "       'Its funny that Mahogany is there lmao, I actually didn&#39;t know that her brother and uncle are part of LMFAO\\ufeff',\n",
       "       'Party rock anthem is love,party rock anthem is life\\ufeff',\n",
       "       'Stop,is a very TOP 1\\ufeff',\n",
       "       'Ahhh back when my life didn&#39;t suck...\\ufeff',\n",
       "       'Party rock! XD\\ufeff', 'CUTE\\xa0 :)\\ufeff',\n",
       "       'LMFAO best songs ever!\\ufeff',\n",
       "       'I fuckin love this song!<br /><br /><br />After, I&#39;m sexy and I know it \\ufeff',\n",
       "       'they Shuffle hard that they made an Earthquake in Nepal\\ufeff',\n",
       "       'Nice\\ufeff',\n",
       "       'still.. this reminds me of 1 years back when i was do shuffle everyday\\ufeff',\n",
       "       'Love this song makes me wanna dance! \\ufeff',\n",
       "       'that time in 2011 where this shirt was cool\\ufeff',\n",
       "       'Love this video and the song of course\\ufeff',\n",
       "       'Check out this video on YouTube:\\ufeff',\n",
       "       'Very Nice !!!<br />Yeah Fucking.\\ufeff',\n",
       "       'WELL THIS DUDES FADED THE FUCK OUT!\\ufeff',\n",
       "       'Ah. Good old times (:\\ufeff', 'old and good song\\ufeff',\n",
       "       'cool\\ufeff', 'not 2 million view anymore :))\\ufeff', 'Good\\ufeff',\n",
       "       'Check out this video on YouTube:<br />\\ufeff',\n",
       "       'Remeber the good ol&#39; days when songs weren&#39;t about butts.  \\ufeff',\n",
       "       'You are the music hero😍😎\\ufeff',\n",
       "       'i was born in the wrong generation\\ufeff',\n",
       "       'Very good! Like! :D\\ufeff',\n",
       "       'the views...... They&#39;re over 90,000!!!!!!!!!!!!!!!!!!!!!!!!!!!!!!!!!!!!!!!!!!!!!!!!!!!!!!!!!!!!!!!!!!!!!!!!!!!!!!!!!!!!!!!!!\\ufeff',\n",
       "       'love lmfao party rockin keep it going\\ufeff',\n",
       "       'Best Music Ever!!!\\ufeff', 'Likeeee\\ufeff', 'Cool\\ufeff',\n",
       "       'Remeber when this song was good\\ufeff', '2015 &lt;3\\ufeff',\n",
       "       'i want to be that robot guy...\\ufeff', 'I LOVE YOUR SONGS\\ufeff',\n",
       "       'Omg it&#39;s going to have 1bi views!\\ufeff', 'Dance :)\\ufeff',\n",
       "       '5 years... \\ufeff', 'cool cool cool cool cool cool cool\\ufeff',\n",
       "       'Wow I love it \\ufeff',\n",
       "       'Who knows the name of that girl?.. and that one.. and that one...\\ufeff',\n",
       "       'Why did they stop their career in music? This music rocks !\\ufeff',\n",
       "       'Very Nice !\\ufeff', 'Why sooooo many downs?\\ufeff',\n",
       "       'tension⤴︎⤴︎\\ufeff', '2015<br />I like video\\ufeff',\n",
       "       'music yeah\\ufeff', 'Like this in 2015! :D\\ufeff',\n",
       "       'This was such an epic track. And the video is awesome!\\ufeff',\n",
       "       'LIKKEE\\ufeff', 'give it a like\\ufeff', 'Lets party\\ufeff',\n",
       "       'Support the fight for your 4th amendment right to privacy in your home and business. Stop the NSA spying on Americans with the un Patriot Act Renewal. Rand Paul has spent 10.5 hours on the Senate floor in a Protest and Filibuster fighting for our\\xa0 Constitution that this Nation is founded on. Join the fight at Rand Paul dot com. Spread The Word. We Have Someone That Cares About Our Nation.\\xa0 Email your Senators, Congress men and women, tell them to support Rand. Tell the news to support Rand too. Senator Rand Paul was up until <a href=\"http://www.youtube.com/watch?v=KQ6zr6kCPj8&amp;t=1m00s\">1:00</a> am this morning fighting for our Constitution.\\ufeff',\n",
       "       'mindblowing dance.,.,.superbbb song\\ufeff',\n",
       "       'Anyone else think this video theme is a bit of an insult to 28 days later? \\ufeff',\n",
       "       'Never get old \\ufeff',\n",
       "       'I remember when this used to be so popular all around at the time.<br />I still love it.\\ufeff',\n",
       "       'Strong messages in every  song I&#39;ve  heard.\\ufeff',\n",
       "       '4 fucking years are fucking past so fucking fast fuck.....\\ufeff',\n",
       "       'I know it old song but (like) if you watching in 2015\\ufeff',\n",
       "       'i&#39;m watching this on summer 2015\\ufeff',\n",
       "       'I am going to blow my mind\\ufeff',\n",
       "       'And i´m Shufflin still today :D\\ufeff',\n",
       "       'This is my favorite song ever love this Party Rock It Everybody!!!!\\ufeff',\n",
       "       '1000000000 views.\\ufeff', 'lets get it to 1 BILLION\\ufeff',\n",
       "       'Love this soooooooooooooooooooooooooooooooooooooooooooooooooo much\\ufeff',\n",
       "       'I&#39;m A SUBSCRIBER\\ufeff', 'This Song is AWESOME!!!!\\ufeff',\n",
       "       'Best song ever made i swear :D i still hear even doe it old!! who else?\\ufeff',\n",
       "       'I came here because of Vanoss.\\ufeff',\n",
       "       'Best song for ever💜💜😢<br />\\ufeff', 'epic\\ufeff',\n",
       "       'I like so much this music,  good \\ufeff', 'Beautiful song\\ufeff',\n",
       "       'Why do I feel like as if Gangnam style copied their song from this?!\\ufeff',\n",
       "       'Damn, this was everywhere\\ufeff', 'Party time!\\ufeff',\n",
       "       'never gets old\\ufeff',\n",
       "       'this song is fu cking awesom!!!!!!!\\ufeff',\n",
       "       'HOW DO YOU PUT A PICTURE FOR YOUR IMAGE THINGIE?!?!\\ufeff',\n",
       "       'okay, this should cover me for some time... Thumbs up if you&#39;re watching while youtube still exists.\\ufeff',\n",
       "       'This song is just insane.<br />Do you dance listening to this song?( i do, lol)\\ufeff',\n",
       "       ':)\\ufeff', 'Thumbs up if shrek is gay 👍\\ufeff',\n",
       "       'THUMBS UP FOR ROBO GUY BABY\\ufeff',\n",
       "       'SERIOUSLY HOW DID THEY COME UP WITH THAT BEAT IT IS INSANELY GOOD HOLY FUCK\\ufeff',\n",
       "       'BEST PARTY SONG LITERALLY PARTY ROCK IS IN THE HOUSEE TONIGHT!!!!\\ufeff',\n",
       "       'Memories\\ufeff', 'I lovee it ♥\\ufeff',\n",
       "       'More views than nikki minaj Anaconda\\ufeff',\n",
       "       'LMFAO IS THE BEST\\ufeff',\n",
       "       'Who else saw jesses dancing sorry if I spelled it wrong  peace✌\\ufeff',\n",
       "       'I like how the robot shuffles he shuffles good\\ufeff',\n",
       "       'you cant stop the shuffle\\ufeff',\n",
       "       'Dang Dat little kid gat moves\\ufeff', 'I miss this song. 😢\\ufeff',\n",
       "       'Loves it\\ufeff',\n",
       "       'Check out this video on YouTube:<br />Gotta dance and just have a blast every time I hear this song !!!! Just ❥love❥ it!<br />\\ufeff',\n",
       "       'Man this song really does get in your bones - one minute I&#39;m nearly dosing off to sleep - the next I&#39;m shuffling like crazy with hot feet XD\\ufeff',\n",
       "       'That shake and that golden and black robot were really partying \\ufeff',\n",
       "       'Take a look at this video on YouTube:\\ufeff',\n",
       "       'cooooooooooooolllllllllll\\ufeff', 'Wow;)\\ufeff',\n",
       "       'OH SHIT THIS WAS UPLOADED ON MY BIRTHDAY, finally my birthday isnt a curse, because on this day maylaysia airlines went missing, so i thought my birthday was a curse xD\\ufeff',\n",
       "       'everyday I&#39;m shufflin\\ufeff',\n",
       "       'Thumbs up if FE-FE-FE-FE-FEGELEIN brought u here\\ufeff',\n",
       "       'Every day I&#39;m Shuffling !\\ufeff',\n",
       "       'cool song ever good thing its here\\ufeff',\n",
       "       'why does the world not shuffle???\\ufeff',\n",
       "       'Love these guys, love the song!\\ufeff',\n",
       "       'Its funny because I listen to rock and death metal. But i like this.\\ufeff',\n",
       "       'Shuffling all the way with LMFAO! I like this one, wish I could shuffle like these crazy dudes\\ufeff',\n",
       "       '5th most viewed video.. i guess\\ufeff', 'my favorite song\\ufeff',\n",
       "       'I like this song<br />\\ufeff', 'Wow dance show\\ufeff',\n",
       "       'Awesome\\ufeff',\n",
       "       'like if ur watchin in 90000000000000000000000000000000000000000000000000000000000000000000000000000000000000000000000000000000000000000000000000000000000000000000000000000000000000000000000000000000000000000000000000000000000000000000000000000000000000000000000000000000000000000000000000000000000000000000000000000000000000000000000000000000000000000000000000000000000000000\\xa0\\xa0\\xa0\\xa0\\xa0\\xa0\\xa0\\xa0\\xa0\\xa0\\xa0\\xa0\\xa0\\xa0\\xa0\\xa0\\xa0\\xa0\\xa0\\xa0\\xa0\\xa0\\xa0\\xa0\\xa0\\xa0\\xa0\\xa0\\xa0\\xa0\\xa0\\xa0\\xa0\\xa0\\xa0\\xa0\\xa0\\xa0\\xa0\\xa0\\xa0\\xa0\\xa0\\xa0\\xa0\\xa0\\xa0\\xa0\\xa0\\xa0\\xa0\\xa0\\xa0\\xa0\\xa0\\xa0\\xa0\\xa0\\xa0\\xa0\\xa0\\xa0\\xa0\\xa0\\xa0\\xa0\\xa0\\xa0\\xa0\\xa0\\xa0\\xa0\\xa0\\xa0\\xa0\\xa0\\xa0\\xa0\\xa0\\xa0\\xa0\\xa0\\xa0\\xa0\\xa0\\xa0\\xa0\\xa0\\xa0\\xa0\\xa0\\xa0\\xa0 1\\ufeff',\n",
       "       'Good times. \\ufeff', 'Laughing My Fucking Ass Off!!!\\ufeff',\n",
       "       'when i see this back in 2015 i ask myself how people got to like this song. seems like Gangnam style copied this style though, might just be me but yea\\ufeff',\n",
       "       'wait I SAW A KID NOT KIDDING\\ufeff',\n",
       "       'Party rock due and duel\\ufeff', 'fucking love it omg :v\\ufeff',\n",
       "       'this very good so I dance with some companions front of the whole school\\ufeff',\n",
       "       'I could finally do the spongebob but I started yesterday XD\\ufeff',\n",
       "       'Thumbs up if you&#39;re watching in 2015\\ufeff',\n",
       "       'I love it\\ufeff',\n",
       "       'LMFAO - Party Rock Anthem ft. Lauren Bennett, GoonRock.\\ufeff',\n",
       "       'I hate it when Laura Bennett comes in\\ufeff',\n",
       "       'SUBSCRIBE TO MY CHANNEL\\ufeff',\n",
       "       'Party in da 🏠 tonight 👐👐👐👐👐👐\\ufeff', 'Best for partying \\ufeff',\n",
       "       'omg\\ufeff',\n",
       "       'What&#39;s with the guys jacket? 1 sleeve and a sleeveless arm\\ufeff',\n",
       "       'Best song ever\\ufeff',\n",
       "       'Take a look at this video on YouTub<br />You\\ufeff',\n",
       "       'i like this steps...\\ufeff',\n",
       "       'Let get this video to one billion views\\ufeff',\n",
       "       'In my head this is like 2 years ago.. Time FLIES\\ufeff',\n",
       "       '870,000,000 views...566,000 comments...oh my lanta\\ufeff',\n",
       "       'Its 2015 and still shuffling to this song🎶🎵🎧\\ufeff',\n",
       "       'Who df is Lauren Bennett..\\ufeff', 'So,cool！！\\ufeff',\n",
       "       'awesome\\ufeff',\n",
       "       'This is so cool,why haven&#39;t I heard this before?\\ufeff',\n",
       "       'XD I WAS GOING CRAZY FUCKIN CRAZY WATCHIN THIS BRAH\\ufeff',\n",
       "       'I shuffled while listening to this song. THE ILLNESS IS SPREADING!!\\ufeff',\n",
       "       'Way was their a guy warring a robot head.\\ufeff',\n",
       "       'like the songs\\ufeff', 'Almost 1 billion views, nice.\\ufeff',\n",
       "       'sorry to all my haters<br /><br /><br /><br /><br /><br /><br /><br /><br /><br /><br /><br /><br />for party rock en\\ufeff',\n",
       "       'I like it<br />\\ufeff', 'Gooooood\\ufeff', ':3\\ufeff',\n",
       "       'likeeeeeeeee\\ufeff',\n",
       "       'shuffle!!!!!!!!!!!!!!!!!!!!!!!!!!!!!!!!!!!!!!!!!!!!!!!!!!!!!!!!!!!!!!!!!!!!!!!!!!!!!!!!!!!!!!!!!!!!!!!!!!!!!!!!!!!!!!!!!!!!!!!!!!!!!!!!!!!!!!!!!!!!!!!!!!!!!!!!!!!!!!!!!!!!!!!!!!!!!!!!!!!!!!!!!!!!!!!\\ufeff',\n",
       "       'lol so funny love it\\ufeff', 'good party\\ufeff',\n",
       "       'Do not like this comment if you are not watching in 2004\\ufeff',\n",
       "       'Check out this playlist on YouTube:\\ufeff',\n",
       "       'share your thoughts\\ufeff',\n",
       "       'subscribe me plzzzzzzz plzzzzzzzzzzzzzzzzzzzzzzzzzzzzzzz\\ufeff',\n",
       "       'YouTube collaborator&#39;s anyone? subscribe to me, I&#39;ll subscribe back. I also will start uploading more YouTube videos.  <a rel=\"nofollow\" class=\"ot-hashtag\" href=\"https://plus.google.com/s/%23LMFAO\">#LMFAO</a>\\ufeff',\n",
       "       'Guys lmfaois going to have a reunion on June/27/15 at expo Idaho gardens there going 2 performe live and there&#39;s going 2 be a press conference after to answer questions about were there been its all live on my channel I got publishing rights subscribe to my channel to watch the whole thing if u don&#39;t believe me look it up hope to see all u true fans there and yes it&#39;s free \\ufeff',\n",
       "       'IIIIIIIIIII LOVE THIS SHAKE IT SONG OH SORRY EVERY SHAKE IT SONG I LIKE WATCH SUBSCRIBE AND NEVER UNLIKE BROOOOO!!!!!!!!!!! SHAKE IT UP\\ufeff',\n",
       "       'Check out this playlist on YouTube:m\\ufeff',\n",
       "       'Check out this video on YouTube:<br /><br /><br /><br />\\ufeff',\n",
       "       'Who&#39;s watching in 2015 Subscribe for me !\\ufeff',\n",
       "       'Come subscribe\\ufeff',\n",
       "       'SUBSCRIBE MY CHANNEL PLEASE LOL PRO PLAYS)\\ufeff',\n",
       "       'I just wanna see how many people like this comment. I&#39;ll give it a month or so :)\\ufeff',\n",
       "       'PLEASE DON&#39;T LIKE THIS COMMENT IF YOU ARE WATCHING IN 2015!!!!!!!!!!!\\ufeff',\n",
       "       'I like This Comment and do not kill :P\\ufeff',\n",
       "       'Check out this video on YouTube:fb i\\ufeff',\n",
       "       'ALL SCHOOL DROP OUTS I KNEW AS FRIENDS BEFORE THEY DECIDED TO DROP SCHOOL THINK THERE IS NO NEED FOR AN ID CARD OR A CERTIFICATION TO PROVE YOU ARE AN EDUCATED CLEAN IN CRIMINAL RECORD TALENTED PERSON TO WORK IN ANY ENTERTAINMENT FIELD WORLDWIDE. THEY THINK THEY COULD BE RICH ENTERTAINERS BY CONSOLIDATING WITH ACTORS / ACTRESSES AS WELL AS SINGERS FOR A SHARE OF PROFIT(S).\\ufeff',\n",
       "       'Check out this video on YouTube: \\ufeff',\n",
       "       'Check out this playlist on YouTube:י<br /><br /><br /><br />⛺🏤⛺⛺\\ufeff',\n",
       "       'Check out this playlist on YouTube:<br /><br />\\ufeff',\n",
       "       'View 851.247.920<br /><br />\\xa0Best youtube Video<br />If Subscribe to My Channel please!<br />Thank you! &lt;3<br /><br />Melhor Vídeo do youtube<br />Se Inscreva no Meu canal por favor!<br />Obrigado! &lt;3<br /><br />Mejor Video youtube<br />Si suscriba a mi canal por favor!<br />Gracias! &lt;3<br /><br />Meilleur vidéo youtube<br />Si vous abonner à Ma Chaîne se il vous plaît!<br />Merci! &lt;3\\ufeff',\n",
       "       'We can have a party next share\\ufeff',\n",
       "       'Lol check out my chanell and subscribe please i want 5000 subs thats it im nearly their now\\ufeff',\n",
       "       'SUBSCRIBE me. if you do that leave your name so i can subs back \\ufeff',\n",
       "       'Please subscribe to my channel!Thanks!\\ufeff',\n",
       "       'hey guys im 17 years old remixer and producer and i want you guys to help me checking my videos i am sure you will love those music if you love them then subscribe so you will know more about me:)\\ufeff',\n",
       "       'Check out Melbourne shuffle, everybody!\\ufeff',\n",
       "       'Subscribe My Channel\\ufeff',\n",
       "       'please suscribe i am bored of 5 subscribers try to get it to 20!\\ufeff',\n",
       "       'Subscribe if you are watching in 2015\\ufeff',\n",
       "       'Check out this video on YouTube:      <br />\\ufeff',\n",
       "       'Hey ! Subscribe\\xa0 to me\\xa0for the peace in the world ! ♥\\ufeff',\n",
       "       'Check out this playlist on YouTube:a\\ufeff',\n",
       "       'Like this comment for no reason\\ufeff',\n",
       "       'Omg can this be the first video on YouTube to hit 1 billion views like this comment of you agree.\\ufeff',\n",
       "       ' <br />Please help me get 100 subscribers by the end of the night. Thx\\ufeff',\n",
       "       'like this comment if you&#39;re watching this video when big bang happened<br />i do\\ufeff',\n",
       "       'Check out this playlist on YouTube:🍴🍴🏄🏄🏄🍴🏄🏄🏄🏄🏊🏊🏊🏊🍴🍴🍴🍴🍴🏂🏂🏂🏂🏂🏆🍸🍸🍸🍸🏆🍻🍗🍵🍟🍟🍟🍟🍴🍕🍕🍕🍕🍕🍕🍕🍕🍕🍕🍕🍕☕️🎣🎣☕️🍕🍕🎣🎣🎣🎣🎣🎣🎣🎣🎣🎣☕️🎣🍕🍔🍔🎣🎣☕️🎣🍹🍹🏂🏂🍹🎿🏆\\ufeff',\n",
       "       '░░░░░░░/\\\\░░░░░▄▐<br />░░░░░░/ \\xa0 \\xa0 \\\\░░░▄██▄<br />░░░░░/ \\xa0(o) \\xa0 \\\\░░░░░▀█▄<br />░░░░/ \\xa0 \\xa0 \\xa0 \\xa0 \\xa0 \\xa0 \\\\░░░░░░▀█▄<br />░░░/__ \\xa0 \\\\ \\xa0 ░▄▄▄▄▄▀▀<br />░░░░▄▄▄██▀▀▀▀<br />░░░█▀▄▄▄█░▀▀ \\xa0 \\xa0 \\xa0 YOU HAVE BEEN SPOOKED BY THE SPOOKINATI<br />░░░▌░▄▄▄▐▌▀▀▀<br />▄░▐░░░▄▄░█░▀▀ \\xa0 \\xa0SHARE THIS TO 666 PEOPLE TO BE UNSPOOKED\\xa0<br />▀█▌░░░▄░▀█▀░▀\\xa0<br />░░░░░░░▄▄▐▌▄▄<br />░░░░░░░▀███▀█░▄<br />░░░░░░▐▌▀▄▀▄▀▐▄<br />░░░░░░▐▀░░░░░░▐▌<br />░░░░░░█░░░░░░░░█<br />░░░░░▐▌░░░░░░░░░█<br />░░░░░█░░░░░░░░░░▐▌\\ufeff',\n",
       "       'like this comment if your watching in 2015 or 2016\\ufeff',\n",
       "       'Help me get 10000000 subscribers by tomorrow!<br /><br /><br /><br /><br /><br /><br /><br /><br /><br /><br />(Joking don&#39;t get butt hurt)  \\ufeff',\n",
       "       'like this comment if ur watching this on 2015\\xa0\\ufeff',\n",
       "       'like this comment please\\ufeff', 'LIKE AND SUBSCRIBE\\ufeff',\n",
       "       'Like this comment if you are watching on a phone\\ufeff',\n",
       "       'Cool Video LMFAOVEVO! You should check out my shuffling videos on my channel when you get the chance. It&#39;s much appreciated. Cheers! <a rel=\"nofollow\" class=\"ot-hashtag\" href=\"https://plus.google.com/s/%23EveryDayImVaping\">#EveryDayImVaping</a> ;-)\\ufeff',\n",
       "       'Check out this playlist on YouTube: I tried\\ufeff',\n",
       "       'subscribe to <span class=\"proflinkWrapper\"><span class=\"proflinkPrefix\">+</span><a class=\"proflink\" href=\"https://plus.google.com/104999962146104962510\" oid=\"104999962146104962510\">SuperMarioLogan</a></span>\\xa0 if you thot the robot dudes r epic and awsome\\ufeff',\n",
       "       'if watching in 2015 subscribe to <span class=\"proflinkWrapper\"><span class=\"proflinkPrefix\">+</span><a class=\"proflink\" href=\"https://plus.google.com/104999962146104962510\" oid=\"104999962146104962510\">SuperMarioLogan</a></span>\\xa0\\ufeff',\n",
       "       'Like this comment if you still jam out to this song after 4 years \\ufeff',\n",
       "       'subscribe\\ufeff',\n",
       "       'this video has 800+m views<br />and the channel got 3m subscribers\\ufeff',\n",
       "       'subscribe to my chanell\\ufeff',\n",
       "       'los invito a subscribirse a mi canal\\xa0\\ufeff',\n",
       "       'Check out this video on YouTube:opponents mm <br /><br /><br /><br />--•[••••=====++¥¥£££<br />\\ufeff',\n",
       "       'Check out this video on YouTube:<br /><br />\\ufeff',\n",
       "       'At 500 subscribers i&#39;m sky diving help me reach my goal &lt;3<br />Trust me, i&#39;m a doctor. \\xa0:)\\ufeff',\n",
       "       '<a href=\"https://m.freemyapps.com/share/url/505b0232\">https://m.freemyapps.com/share/url/505b0232</a>\\ufeff',\n",
       "       'Need money ? check my channel and subscribe,soon will post how to get it )\\ufeff',\n",
       "       'Like this comment for no reason.\\ufeff',\n",
       "       'Youtube comments in a nut shell:<br /><br />.First<br />.301 club<br />.Skip to <a href=\"http://www.youtube.com/watch?v=KQ6zr6kCPj8&amp;t=3m57s\">3:57</a> and close your eyes<br />.Advertisements<br />.like this comment for no reason<br />.Christianity arguements<br />.Other religious arguements<br />.Console wars<br />.#PCMASTERACE<br />.Trolls<br />.&quot;How is there 1 million views on the this video if theres online 10 people on earth/<br />.Complaints<br />.Pewdiepie fangirls<br />.Minecraft scrubs<br />./r/MontageParodies<br /><br /><br />AND ANY OTHER SHIT!!\\ufeff',\n",
       "       'Please become my first subscriber. \\xa0Thank you.\\ufeff',\n",
       "       'Can i get views and subscribers for no reason? 😅\\ufeff',\n",
       "       'Hello from Russia comes to the channel subscribe\\ufeff',\n",
       "       'Check out my dance videos!! You won&#39;t be disappointed!! <a rel=\"nofollow\" class=\"ot-hashtag\" href=\"https://plus.google.com/s/%23KingLoTheDancer\">#KingLoTheDancer</a>\\ufeff',\n",
       "       'Men stop being naive idiots believing in love and believing that women actually respect you. \\xa0Want a more fulfilling drama fee life? Check out MGTOW. There are many channels here on YouTube that you can chose from which will give you all the information needed. (Caution: Not for men who enjoy being disposable providers of utility)\\ufeff',\n",
       "       'pleas subscribe on me for ps4 games video\\xa0<br /><i>______________________________</i><br />if you have som tips so contact me on kik or skype<br /><i>______________________________</i><br />Kik: pander26<br />Skype: sander.nicolaysen2<br /><i>______________________</i><br />pleas subscribe on me and Kashoo Gaming\\ufeff',\n",
       "       'Check out this playlist on YouTube:👿👳👳👳👳👳\\ufeff',\n",
       "       'Check out this video on YouTube:الإعلانات<br /><br /><br /><br /><br /><br />لل\\ufeff',\n",
       "       '🚨🚨🚨🚨🚨🚨🚨🚨🚨🚨🚨🚨🚨🚨🚨🚨<br />NOW THAT I HAVE YOUR ATTENTION!!! 🚨🚨🚨🚨🚨🚨🚨🚨🚨🚨🚨🚨🚨🚨🚨🚨SUBSCRIBE TO MY CHANNEL!!!<br />🚨🚨🚨🚨🚨🚨🚨🚨🚨🚨🚨🚨🚨🚨🚨🚨<br />GRACIAS!💋<br />🚨🚨🚨🚨🚨🚨🚨🚨🚨🚨🚨\\ufeff',\n",
       "       '<a href=\"https://m.freemyapps.com/share/url/10b35481\">https://m.freemyapps.com/share/url/10b35481</a>\\ufeff',\n",
       "       'Check out this playlist on YouTube:hbbhhhgh\\ufeff',\n",
       "       'LIKE AND SUBSCRIB IF YOU WATCH IN 2015 ;)\\ufeff',\n",
       "       'Check out this video on YouTube:hjalp\\ufeff',\n",
       "       'Check out this video on YouTube:Qq\\ufeff',\n",
       "       '<a href=\"http://www.gofundme.com/Helpmypitbull\">http://www.gofundme.com/Helpmypitbull</a> Can you please donate to help my pitbull PLEASE!!! I just need 50 dollars to take it to the vet!!!\\ufeff',\n",
       "       'Dear friends please subscribe to my channel I will be very glad to see You virucide ;-)\\ufeff',\n",
       "       'Subscribe to my channel <br />Tweet &amp; Follow me on twitter //therealterrell_ <br />And I will follow you back 👀\\ufeff',\n",
       "       'want a sub? tell me about your channel and i will subscribe (with a couple exceptions)\\ufeff',\n",
       "       'Subscribe I&#39;ll subscribe back\\ufeff',\n",
       "       'Check out this playlist on YouTube:pl\\ufeff',\n",
       "       'Check out this video on YouTube:lo\\ufeff',\n",
       "       'Check out this video on YouTube\\ufeff',\n",
       "       'Check out this video on YouTube: I \\ufeff',\n",
       "       'subscribe to my channel yo - DJ Feelz\\ufeff',\n",
       "       'Hey guys subscribe to my chanel and i will subscribe back and like all your vids :)<br /><br />\\ufeff',\n",
       "       'White people are going extinct for more information subscribe to my channel or search for videos on &quot;white genocide&quot;  thank you\\ufeff',\n",
       "       'Check out this video on YouTube:..🌈🌈🌈\\ufeff',\n",
       "       'subscribers please`\\ufeff',\n",
       "       'Yo like what up this song is fricking beast anywon herd the see mee rollin or I woke up in a new Buggti check out nuketown rap I was shooting in it see my nice quick scoping things training for faze adoult freind sang I was at my freinds house doing it we just had the rap going and we were doing fun things \\ufeff',\n",
       "       'hi everyone this is cool check out sexy and i know it\\ufeff',\n",
       "       'Check out our app to solve all your party/drunk problems!\\xa0<br /><a href=\"https://play.google.com/store/apps/details?id=vn.ibit.AppLocker&amp;hl=en\">https://play.google.com/store/apps/details?id=vn.ibit.AppLocker&amp;hl=en</a>\\ufeff',\n",
       "       'Check out this video on YouTube:it is a old track but it still bad\\ufeff',\n",
       "       'Check out my youtube channel for cool beatboxing (:\\ufeff',\n",
       "       'Hi everyone! Do you like music? Then why not check out my music channel. The LEXIS band will be uploading their own songs and covers soon so don&#39;t miss out. Please SUBSCRIBE too as\\xa0it does help us out a lot. Just takes one click. -&gt;\\ufeff',\n",
       "       'SUBSCRIBE!!!!!!!!!!!!!!!!!!!!!!!!!!!!!!!!!!!!!!!!!!!!!!!!!!!!!!!!!!!!!!!!!!!!!!!!!!!!!!!!!!!!!!!!!!!!!!!!!!!!!!!!!!!!!!!!!!!!!!!!!!!!!!!!!!!!!!!!!!!!!!!!!!!!!!!!!!!!!!!!!!!!!!!!!!!!!!!!!!!!!!!!!!!!!!!!!!!!!!!!!!!!!!!!!!!!!!!!!!!!!!!!!!!!!!!!!!!!!!!!!!!!!!!!!!!!!!!!!!!!!!!!!!!!!!!!!!!!!!!!!!!!!!!!!!!!!!!!!!!!!!!!!!!!!!!!!!!!!!!!!!!!!!!!!!!!!!!!!!!!!!!!!!!!!!!!!!!!!!!!!!!!!!!!!!!!!!!!!!!!!!!!!!!!!!!!!!!!!!!!!!!!!!!!!!!!!!!!!!!!!!!!!!!!!!!!!!!!!!!!!!!!!!!!!!!!!!!!!!!!!!!!!!!!!!!!!!!!!!!!!!!!!!!!!!!!!!!!!!!!!!!!!!!!!!!!!!!!!!!!!!!!!!!!!!!!!!!!!!!!!!!!!!!!!!!!!!!!!!!!!!!!!!!!!!!!!!!!!!!!!!!!!!!!!!!!!!!!!!!!!!!!!!!!!!!!!!!!!!!!!!!!!!!!!!!!!!!!!!!!!!!!!!!!!!!!!!!!!!!!!!!!!!!!!!!!!!!!!!!!!!!!!!!!!!!!!!!\\ufeff',\n",
       "       'Ummm... I just hit 1k subscribers. I make Minecraft videos. Help me out by checking me out?\\ufeff',\n",
       "       'SUP GUS THIS IS A VIDEO FOR PEOPLE WHO LOVES PARTY ROCK SO THANKS FOR WATCHING AND PLEASE SUBSCRIBE:)!!\\ufeff',\n",
       "       'Hey Guys Jaylan Here And I Just Wanted Everybody To Know if Yall Can Subscribe Please That Would Be Great! This Is My New Gaming Channel (Have Not\\xa0Uploaded Yet)But I Will Upload If I Hit About 10 Subs Thank You :D\\ufeff',\n",
       "       'great l subscribe\\ufeff',\n",
       "       'Check out this video on YouTube:jjiwajwkajajqjaubkm\\ufeff',\n",
       "       '3m subscribers but look at the views its 700 million wtf :P\\ufeff',\n",
       "       'Check out my YouTube channel I can rap\\ufeff',\n",
       "       'Check out this video on YouTu\\ufeff',\n",
       "       'LMFAO is CRAZY DOPE!!! CHeck out my music on my channel if you have a minute, it would mean a lot. Much love!!\\ufeff',\n",
       "       'everyday i&#39;m subscribe\\ufeff',\n",
       "       'man check out the raps on my channel im better rapper than these nigger fools\\ufeff',\n",
       "       'go check out our video\\ufeff', '😼👍😏 Like This Comment 😏👍😼\\ufeff',\n",
       "       'Subscribe\\ufeff',\n",
       "       'Check out this video on YouTube:<br />Looking for my wood pile...<br />Anyone seen it? Hmm?&#39;<br />How bout some pie now <br />Ladies?&#39;\\ufeff',\n",
       "       'HAHAA THIS DANCE IS TIGHTTTT<br /><br />I know y&#39;all &quot;…ain&#39;t got time for MY demo man&quot; \\xa0but check out some of my stuff<br /><br />Slappers on slappers on bangers! Click that link below to peep game! ENJOY.\\xa0<br /><br /><a href=\"https://soundcloud.com/rocc-steady/wave-emoji-prod-by-nippylongbottom-cyber-punk\">https://soundcloud.com/rocc-steady/wave-emoji-prod-by-nippylongbottom-cyber-punk</a>\\ufeff',\n",
       "       'Check out my music niggas\\ufeff',\n",
       "       'Check out this funny video &quot;Cereal Box Knocks out Baby&quot; on my channel.\\ufeff',\n",
       "       'Subscribe to me if u think &quot;swag&quot; is fucking stupid\\ufeff',\n",
       "       'Tuto to subscribe to my channel because you should sign up for 17 l please thank you I&#39;d do anything for you to sign up a lot of good video I usually do!\\ufeff',\n",
       "       'Abomination! Subscribe if you agree :| party here in my channel. cool lights.\\ufeff',\n",
       "       'Like this comment, guys i just started up a new channel if i can get 200 subscribers by tonight ill do a $20 paypal giveaway like this comment so your friends can see it or others and they can also be entered GO !!!\\ufeff',\n",
       "       'Check out: My Hood Doh, by Flixter Nossnevs\\ufeff',\n",
       "       'Nezo and Ed<br />Like&amp;share this page on facebook please\\xa0\\ufeff',\n",
       "       'Hey I&#39;m a British youtuber!!<br />I upload Weekly!! <br />It would mean the world if you could subscribe!!<br />Thanks,Joyce!!<br />\\ufeff',\n",
       "       'Subscribe to my channel !\\ufeff',\n",
       "       'hi guys please check out my vids , i will promos to subscribe to you to\\ufeff',\n",
       "       'Hey plz check out my music video. Thanks!! :-)\\ufeff',\n",
       "       'Check the shit out on my channel<br /><br /><br />SUBSCRIBE YOU WILL LIKE IT\\ufeff',\n",
       "       'Good video\\ufeff', 'very good song:)\\ufeff',\n",
       "       'every bady yust have a good time\\ufeff',\n",
       "       '\\xa0are \\xa0there \\xa0people who like \\xa0this shit? hahahahah :P<br />this isn&#39;t even real music.......... it&#39;s computer-based music.....<br />well done music industry.....\\ufeff',\n",
       "       'i love this song so much!!!!!!!!!!!!!!!!!!!!!!!!!!!!!!!!!!!!!!!!!!!!!!!!!!!!!!!!!!!!!!!!!!!!!!!!!!!!!!\\ufeff',\n",
       "       'No one makes me wanna party like LMFAO does... I just wanna rage every time one of these songs comes on. The only other band that does that is &quot;On the Rocks Inc.&quot; those kids know how to party\\ufeff',\n",
       "       'The best song ever!\\ufeff',\n",
       "       'check it out free stuff for watching videos and filling surveys<br /><br /><a href=\"http://www.prizerebel.com/index.php?r=1446084\">http://www.prizerebel.com/index.php?r=1446084</a>\\ufeff',\n",
       "       'Love your song makes me happy\\ufeff',\n",
       "       'OOOOO SHUFFLLLLLLLLLLLLLLLLLLLLLLINNNNN\\ufeff',\n",
       "       'I learned the shuffle because of them\\ufeff',\n",
       "       'The best Song i saw ❤️❤️❤️❤️❤️❤️❤️❤️😍😍😍😍😍😍😍😘😘😘😘😘😘😘😘\\ufeff',\n",
       "       'watch this with sound off!\\ufeff',\n",
       "       'Looooooooove this song!!!!!!!!!:))))))\\ufeff',\n",
       "       'EVERYONE PLEASE SUBSCRIBE TO MY CHANNEL OR CAN YOU ALL JUST GO LOOK AT MY VIDEOS \\ufeff',\n",
       "       'EVERYONE PLEASE GO SUBSCRIBE TO MY CHANNEL OR JUST LOON AT MY VIDEOS\\ufeff',\n",
       "       'love this song\\ufeff',\n",
       "       'this song is awesome. these guys are the best. love this video too its hilarious lol. im getting popular fast because i rap with meaning. thumbs up if you piss next to the water in the toilet so it doesnt make noise\\ufeff',\n",
       "       'HOW MANY THUMBS UP FOR LOUIS SAVING THE DAY!?!?\\ufeff',\n",
       "       'NICE :3\\ufeff'], dtype=object)"
      ]
     },
     "execution_count": 17,
     "metadata": {},
     "output_type": "execute_result"
    }
   ],
   "source": [
    "data[\"COMMENT\"].unique()"
   ]
  },
  {
   "cell_type": "markdown",
   "id": "8651b7cf",
   "metadata": {},
   "source": [
    "### Create unique values for 'COMMENT'"
   ]
  },
  {
   "cell_type": "code",
   "execution_count": 18,
   "id": "ac23540c",
   "metadata": {},
   "outputs": [
    {
     "data": {
      "text/html": [
       "<div>\n",
       "<style scoped>\n",
       "    .dataframe tbody tr th:only-of-type {\n",
       "        vertical-align: middle;\n",
       "    }\n",
       "\n",
       "    .dataframe tbody tr th {\n",
       "        vertical-align: top;\n",
       "    }\n",
       "\n",
       "    .dataframe thead th {\n",
       "        text-align: right;\n",
       "    }\n",
       "</style>\n",
       "<table border=\"1\" class=\"dataframe\">\n",
       "  <thead>\n",
       "    <tr style=\"text-align: right;\">\n",
       "      <th></th>\n",
       "      <th>COMMENT</th>\n",
       "      <th>CLASS</th>\n",
       "    </tr>\n",
       "  </thead>\n",
       "  <tbody>\n",
       "    <tr>\n",
       "      <th>0</th>\n",
       "      <td>&lt;a href=\"http://www.youtube.com/watch?v=KQ6zr6...</td>\n",
       "      <td>0</td>\n",
       "    </tr>\n",
       "    <tr>\n",
       "      <th>1</th>\n",
       "      <td>wierd but funny﻿</td>\n",
       "      <td>0</td>\n",
       "    </tr>\n",
       "    <tr>\n",
       "      <th>2</th>\n",
       "      <td>Hey guys, I&amp;#39;m a human.&lt;br /&gt;&lt;br /&gt;&lt;br /&gt;Bu...</td>\n",
       "      <td>1</td>\n",
       "    </tr>\n",
       "    <tr>\n",
       "      <th>3</th>\n",
       "      <td>Party Rock....lol...who wants to shuffle!!!﻿</td>\n",
       "      <td>0</td>\n",
       "    </tr>\n",
       "    <tr>\n",
       "      <th>4</th>\n",
       "      <td>Party rock﻿</td>\n",
       "      <td>0</td>\n",
       "    </tr>\n",
       "  </tbody>\n",
       "</table>\n",
       "</div>"
      ],
      "text/plain": [
       "                                             COMMENT  CLASS\n",
       "0  <a href=\"http://www.youtube.com/watch?v=KQ6zr6...      0\n",
       "1                                   wierd but funny﻿      0\n",
       "2  Hey guys, I&#39;m a human.<br /><br /><br />Bu...      1\n",
       "3       Party Rock....lol...who wants to shuffle!!!﻿      0\n",
       "4                                        Party rock﻿      0"
      ]
     },
     "execution_count": 18,
     "metadata": {},
     "output_type": "execute_result"
    }
   ],
   "source": [
    "data.head()"
   ]
  },
  {
   "cell_type": "markdown",
   "id": "8e8a20e3",
   "metadata": {},
   "source": [
    "### Plot distribution of 'comment' column"
   ]
  },
  {
   "cell_type": "code",
   "execution_count": 19,
   "metadata": {},
   "outputs": [
    {
     "name": "stdout",
     "output_type": "stream",
     "text": [
      "Requirement already satisfied: seaborn in c:\\users\\badru\\appdata\\local\\programs\\python\\python311\\lib\\site-packages (0.13.0)\n",
      "Requirement already satisfied: numpy!=1.24.0,>=1.20 in c:\\users\\badru\\appdata\\local\\programs\\python\\python311\\lib\\site-packages (from seaborn) (1.23.5)\n",
      "Requirement already satisfied: pandas>=1.2 in c:\\users\\badru\\appdata\\local\\programs\\python\\python311\\lib\\site-packages (from seaborn) (1.5.3)\n",
      "Requirement already satisfied: matplotlib!=3.6.1,>=3.3 in c:\\users\\badru\\appdata\\local\\programs\\python\\python311\\lib\\site-packages (from seaborn) (3.7.1)\n",
      "Requirement already satisfied: contourpy>=1.0.1 in c:\\users\\badru\\appdata\\local\\programs\\python\\python311\\lib\\site-packages (from matplotlib!=3.6.1,>=3.3->seaborn) (1.0.7)\n",
      "Requirement already satisfied: cycler>=0.10 in c:\\users\\badru\\appdata\\local\\programs\\python\\python311\\lib\\site-packages (from matplotlib!=3.6.1,>=3.3->seaborn) (0.11.0)\n",
      "Requirement already satisfied: fonttools>=4.22.0 in c:\\users\\badru\\appdata\\local\\programs\\python\\python311\\lib\\site-packages (from matplotlib!=3.6.1,>=3.3->seaborn) (4.39.2)\n",
      "Requirement already satisfied: kiwisolver>=1.0.1 in c:\\users\\badru\\appdata\\local\\programs\\python\\python311\\lib\\site-packages (from matplotlib!=3.6.1,>=3.3->seaborn) (1.4.4)\n",
      "Requirement already satisfied: packaging>=20.0 in c:\\users\\badru\\appdata\\local\\programs\\python\\python311\\lib\\site-packages (from matplotlib!=3.6.1,>=3.3->seaborn) (23.0)\n",
      "Requirement already satisfied: pillow>=6.2.0 in c:\\users\\badru\\appdata\\local\\programs\\python\\python311\\lib\\site-packages (from matplotlib!=3.6.1,>=3.3->seaborn) (9.4.0)\n",
      "Requirement already satisfied: pyparsing>=2.3.1 in c:\\users\\badru\\appdata\\local\\programs\\python\\python311\\lib\\site-packages (from matplotlib!=3.6.1,>=3.3->seaborn) (3.0.9)\n",
      "Requirement already satisfied: python-dateutil>=2.7 in c:\\users\\badru\\appdata\\local\\programs\\python\\python311\\lib\\site-packages (from matplotlib!=3.6.1,>=3.3->seaborn) (2.8.2)\n",
      "Requirement already satisfied: pytz>=2020.1 in c:\\users\\badru\\appdata\\local\\programs\\python\\python311\\lib\\site-packages (from pandas>=1.2->seaborn) (2022.7.1)\n",
      "Requirement already satisfied: six>=1.5 in c:\\users\\badru\\appdata\\local\\programs\\python\\python311\\lib\\site-packages (from python-dateutil>=2.7->matplotlib!=3.6.1,>=3.3->seaborn) (1.16.0)\n"
     ]
    },
    {
     "name": "stderr",
     "output_type": "stream",
     "text": [
      "\n",
      "[notice] A new release of pip is available: 23.1.2 -> 23.3.1\n",
      "[notice] To update, run: python.exe -m pip install --upgrade pip\n"
     ]
    }
   ],
   "source": [
    "!pip install seaborn"
   ]
  },
  {
   "cell_type": "code",
   "execution_count": 20,
   "id": "7e13f4c3",
   "metadata": {},
   "outputs": [
    {
     "data": {
      "image/png": "[encoded data removed]",
      "text/plain": [
       "<Figure size 640x480 with 1 Axes>"
      ]
     },
     "metadata": {},
     "output_type": "display_data"
    }
   ],
   "source": [
    "sns.countplot(x=\"CLASS\", data=data)\n",
    "plt.xticks(rotation=90)\n",
    "plt.show()"
   ]
  },
  {
   "cell_type": "code",
   "execution_count": 21,
   "id": "a36977a5",
   "metadata": {},
   "outputs": [
    {
     "data": {
      "text/plain": [
       "Check out this video on YouTube:﻿                   74\n",
       "Check out this playlist on YouTube:﻿                15\n",
       "Love this song makes me wanna dance! ﻿               3\n",
       "Check out this playlist on YouTube:<br /><br />﻿     2\n",
       "everyday I&#39;m shufflin﻿                           2\n",
       "                                                    ..\n",
       "this song is fu cking awesom!!!!!!!﻿                 1\n",
       "never gets old﻿                                      1\n",
       "Party time!﻿                                         1\n",
       "Damn, this was everywhere﻿                           1\n",
       "NICE :3﻿                                             1\n",
       "Name: COMMENT, Length: 340, dtype: int64"
      ]
     },
     "execution_count": 21,
     "metadata": {},
     "output_type": "execute_result"
    }
   ],
   "source": [
    "data[\"COMMENT\"].value_counts()"
   ]
  },
  {
   "cell_type": "code",
   "execution_count": 22,
   "id": "d0721c3d",
   "metadata": {},
   "outputs": [],
   "source": [
    "classes = list(data[\"CLASS\"])"
   ]
  },
  {
   "cell_type": "code",
   "execution_count": 23,
   "id": "dc85f66b",
   "metadata": {},
   "outputs": [
    {
     "data": {
      "text/plain": [
       "438"
      ]
     },
     "execution_count": 23,
     "metadata": {},
     "output_type": "execute_result"
    }
   ],
   "source": [
    "len(classes)"
   ]
  },
  {
   "cell_type": "markdown",
   "id": "6211e473",
   "metadata": {},
   "source": [
    "### Convert data to lower case"
   ]
  },
  {
   "cell_type": "code",
   "execution_count": 24,
   "id": "c1f77e46",
   "metadata": {},
   "outputs": [
    {
     "name": "stderr",
     "output_type": "stream",
     "text": [
      "100%|██████████| 438/438 [00:00<00:00, 434817.79it/s]\n"
     ]
    }
   ],
   "source": [
    "comments = [c.lower() for c in tqdm(data[\"COMMENT\"])]"
   ]
  },
  {
   "cell_type": "code",
   "execution_count": 25,
   "id": "074e75dd",
   "metadata": {},
   "outputs": [
    {
     "data": {
      "text/plain": [
       "'2011- the last year of decent music.\\ufeff'"
      ]
     },
     "execution_count": 25,
     "metadata": {},
     "output_type": "execute_result"
    }
   ],
   "source": [
    "comments[13]"
   ]
  },
  {
   "cell_type": "code",
   "execution_count": 26,
   "id": "917213d0",
   "metadata": {},
   "outputs": [
    {
     "data": {
      "text/plain": [
       "'check out this video on youtube:\\ufeff'"
      ]
     },
     "execution_count": 26,
     "metadata": {},
     "output_type": "execute_result"
    }
   ],
   "source": [
    "comments[401]"
   ]
  },
  {
   "cell_type": "markdown",
   "id": "608d00f4",
   "metadata": {},
   "source": [
    "### Tokenize the text"
   ]
  },
  {
   "cell_type": "code",
   "execution_count": 27,
   "id": "a498ce3f",
   "metadata": {},
   "outputs": [
    {
     "name": "stderr",
     "output_type": "stream",
     "text": [
      "100%|██████████| 438/438 [00:00<00:00, 8562.88it/s]\n"
     ]
    }
   ],
   "source": [
    "tokens = [word_tokenize(c) for c in tqdm(comments)]"
   ]
  },
  {
   "cell_type": "code",
   "execution_count": 28,
   "id": "3fb95524",
   "metadata": {},
   "outputs": [
    {
     "data": {
      "text/plain": [
       "['2011-', 'the', 'last', 'year', 'of', 'decent', 'music.\\ufeff']"
      ]
     },
     "execution_count": 28,
     "metadata": {},
     "output_type": "execute_result"
    }
   ],
   "source": [
    "tokens[13]"
   ]
  },
  {
   "cell_type": "code",
   "execution_count": 29,
   "id": "85e40fcd",
   "metadata": {},
   "outputs": [
    {
     "data": {
      "text/plain": [
       "['check', 'out', 'this', 'video', 'on', 'youtube', ':', '\\ufeff']"
      ]
     },
     "execution_count": 29,
     "metadata": {},
     "output_type": "execute_result"
    }
   ],
   "source": [
    "tokens[401]"
   ]
  },
  {
   "cell_type": "markdown",
   "id": "116d4811",
   "metadata": {},
   "source": [
    "### Remove stop words"
   ]
  },
  {
   "cell_type": "code",
   "execution_count": 30,
   "id": "8c32daad",
   "metadata": {},
   "outputs": [],
   "source": [
    "sw = stopwords.words(\"english\")"
   ]
  },
  {
   "cell_type": "code",
   "execution_count": 31,
   "id": "a5758bd3",
   "metadata": {},
   "outputs": [
    {
     "data": {
      "text/plain": [
       "['i', 'me', 'my', 'myself', 'we', 'our', 'ours', 'ourselves', 'you', \"you're\"]"
      ]
     },
     "execution_count": 31,
     "metadata": {},
     "output_type": "execute_result"
    }
   ],
   "source": [
    "sw[:10]"
   ]
  },
  {
   "cell_type": "code",
   "execution_count": 32,
   "id": "739409eb",
   "metadata": {},
   "outputs": [
    {
     "name": "stderr",
     "output_type": "stream",
     "text": [
      "100%|██████████| 438/438 [00:00<00:00, 45942.56it/s]\n"
     ]
    }
   ],
   "source": [
    "tokens = [[word for word in t if word not in sw] for t in tqdm(tokens)]"
   ]
  },
  {
   "cell_type": "markdown",
   "id": "fc284da4",
   "metadata": {},
   "source": [
    "### Remove punctuation marks"
   ]
  },
  {
   "cell_type": "code",
   "execution_count": 33,
   "id": "b82ee710",
   "metadata": {},
   "outputs": [],
   "source": [
    "tokenizer = RegexpTokenizer(r'\\w+')"
   ]
  },
  {
   "cell_type": "code",
   "execution_count": 34,
   "id": "69de2b85",
   "metadata": {},
   "outputs": [
    {
     "name": "stderr",
     "output_type": "stream",
     "text": [
      "100%|██████████| 438/438 [00:00<00:00, 108962.35it/s]\n"
     ]
    }
   ],
   "source": [
    "tokens = [[\"\".join(tokenizer.tokenize(word)) for word in t \n",
    "          if len(tokenizer.tokenize(word)) > 0] for t in tqdm(tokens)]"
   ]
  },
  {
   "cell_type": "code",
   "execution_count": 35,
   "id": "3d2565dc",
   "metadata": {},
   "outputs": [
    {
     "data": {
      "text/plain": [
       "['2011', 'last', 'year', 'decent', 'music']"
      ]
     },
     "execution_count": 35,
     "metadata": {},
     "output_type": "execute_result"
    }
   ],
   "source": [
    "tokens[13]"
   ]
  },
  {
   "cell_type": "code",
   "execution_count": 36,
   "id": "372547fd",
   "metadata": {},
   "outputs": [
    {
     "data": {
      "text/plain": [
       "['check', 'video', 'youtube']"
      ]
     },
     "execution_count": 36,
     "metadata": {},
     "output_type": "execute_result"
    }
   ],
   "source": [
    "tokens[401]"
   ]
  },
  {
   "cell_type": "markdown",
   "id": "9da0b760",
   "metadata": {},
   "source": [
    "### Remove 'xxxx' and '000' tokens"
   ]
  },
  {
   "cell_type": "code",
   "execution_count": 37,
   "id": "82055e13",
   "metadata": {},
   "outputs": [
    {
     "name": "stderr",
     "output_type": "stream",
     "text": [
      "100%|██████████| 438/438 [00:00<?, ?it/s]\n"
     ]
    }
   ],
   "source": [
    "tokens = [[t for t in token if t not in ['xxxx','000']] for token in tqdm(tokens)]"
   ]
  },
  {
   "cell_type": "code",
   "execution_count": 38,
   "id": "4164a45d",
   "metadata": {},
   "outputs": [
    {
     "data": {
      "text/plain": [
       "['2011', 'last', 'year', 'decent', 'music']"
      ]
     },
     "execution_count": 38,
     "metadata": {},
     "output_type": "execute_result"
    }
   ],
   "source": [
    "tokens[13]"
   ]
  },
  {
   "cell_type": "code",
   "execution_count": 39,
   "id": "0cc2e50c",
   "metadata": {
    "scrolled": true
   },
   "outputs": [
    {
     "data": {
      "text/plain": [
       "['check', 'video', 'youtube']"
      ]
     },
     "execution_count": 39,
     "metadata": {},
     "output_type": "execute_result"
    }
   ],
   "source": [
    "tokens[401]"
   ]
  },
  {
   "cell_type": "markdown",
   "id": "4d3de69f",
   "metadata": {},
   "source": [
    "### Check word count for couple of classes"
   ]
  },
  {
   "cell_type": "code",
   "execution_count": 40,
   "id": "925f68f4",
   "metadata": {},
   "outputs": [],
   "source": [
    "data[\"clean_comments\"] = tokens"
   ]
  },
  {
   "cell_type": "code",
   "execution_count": 41,
   "id": "7021d757",
   "metadata": {},
   "outputs": [
    {
     "data": {
      "text/html": [
       "<div>\n",
       "<style scoped>\n",
       "    .dataframe tbody tr th:only-of-type {\n",
       "        vertical-align: middle;\n",
       "    }\n",
       "\n",
       "    .dataframe tbody tr th {\n",
       "        vertical-align: top;\n",
       "    }\n",
       "\n",
       "    .dataframe thead th {\n",
       "        text-align: right;\n",
       "    }\n",
       "</style>\n",
       "<table border=\"1\" class=\"dataframe\">\n",
       "  <thead>\n",
       "    <tr style=\"text-align: right;\">\n",
       "      <th></th>\n",
       "      <th>COMMENT</th>\n",
       "      <th>CLASS</th>\n",
       "      <th>clean_comments</th>\n",
       "    </tr>\n",
       "  </thead>\n",
       "  <tbody>\n",
       "    <tr>\n",
       "      <th>0</th>\n",
       "      <td>&lt;a href=\"http://www.youtube.com/watch?v=KQ6zr6...</td>\n",
       "      <td>0</td>\n",
       "      <td>[href, http, wwwyoutubecomwatch, vkq6zr6kcpj8,...</td>\n",
       "    </tr>\n",
       "    <tr>\n",
       "      <th>1</th>\n",
       "      <td>wierd but funny﻿</td>\n",
       "      <td>0</td>\n",
       "      <td>[wierd, funny]</td>\n",
       "    </tr>\n",
       "    <tr>\n",
       "      <th>2</th>\n",
       "      <td>Hey guys, I&amp;#39;m a human.&lt;br /&gt;&lt;br /&gt;&lt;br /&gt;Bu...</td>\n",
       "      <td>1</td>\n",
       "      <td>[hey, guys, 39, human, br, br, br, 39, want, h...</td>\n",
       "    </tr>\n",
       "    <tr>\n",
       "      <th>3</th>\n",
       "      <td>Party Rock....lol...who wants to shuffle!!!﻿</td>\n",
       "      <td>0</td>\n",
       "      <td>[party, rock, lol, wants, shuffle]</td>\n",
       "    </tr>\n",
       "    <tr>\n",
       "      <th>4</th>\n",
       "      <td>Party rock﻿</td>\n",
       "      <td>0</td>\n",
       "      <td>[party, rock]</td>\n",
       "    </tr>\n",
       "  </tbody>\n",
       "</table>\n",
       "</div>"
      ],
      "text/plain": [
       "                                             COMMENT  CLASS  \\\n",
       "0  <a href=\"http://www.youtube.com/watch?v=KQ6zr6...      0   \n",
       "1                                   wierd but funny﻿      0   \n",
       "2  Hey guys, I&#39;m a human.<br /><br /><br />Bu...      1   \n",
       "3       Party Rock....lol...who wants to shuffle!!!﻿      0   \n",
       "4                                        Party rock﻿      0   \n",
       "\n",
       "                                      clean_comments  \n",
       "0  [href, http, wwwyoutubecomwatch, vkq6zr6kcpj8,...  \n",
       "1                                     [wierd, funny]  \n",
       "2  [hey, guys, 39, human, br, br, br, 39, want, h...  \n",
       "3                 [party, rock, lol, wants, shuffle]  \n",
       "4                                      [party, rock]  "
      ]
     },
     "execution_count": 41,
     "metadata": {},
     "output_type": "execute_result"
    }
   ],
   "source": [
    "data.head()"
   ]
  },
  {
   "cell_type": "code",
   "execution_count": 42,
   "id": "a4ab1ac6",
   "metadata": {},
   "outputs": [
    {
     "name": "stderr",
     "output_type": "stream",
     "text": [
      "100%|██████████| 438/438 [00:00<00:00, 438031.75it/s]\n"
     ]
    }
   ],
   "source": [
    "clean_comments = [\" \".join(comments) for comments in tqdm(tokens)]"
   ]
  },
  {
   "cell_type": "code",
   "execution_count": 43,
   "id": "2de5ff72",
   "metadata": {},
   "outputs": [
    {
     "data": {
      "text/plain": [
       "'2011 last year decent music'"
      ]
     },
     "execution_count": 43,
     "metadata": {},
     "output_type": "execute_result"
    }
   ],
   "source": [
    "clean_comments[13]"
   ]
  },
  {
   "cell_type": "code",
   "execution_count": 44,
   "id": "9eb4bf72",
   "metadata": {},
   "outputs": [
    {
     "data": {
      "text/plain": [
       "'check video youtube'"
      ]
     },
     "execution_count": 44,
     "metadata": {},
     "output_type": "execute_result"
    }
   ],
   "source": [
    "clean_comments[401]"
   ]
  },
  {
   "cell_type": "code",
   "execution_count": 45,
   "metadata": {},
   "outputs": [
    {
     "name": "stdout",
     "output_type": "stream",
     "text": [
      "                              COMMENT_ID        AUTHOR  \\\n",
      "0  z13uwn2heqndtr5g304ccv5j5kqqzxjadmc0k  Corey Wilson   \n",
      "1  z124jvczaz3dxhnbc04cffk43oiugj25yzo0k   Epic Gaming   \n",
      "2      z13tczjy5xj0vjmu5231unho1ofey5zdk     LaS Music   \n",
      "3  z13tzr0hdpnayhqqc04cd3zqqqjkf3ngckk0k    Cheryl Fox   \n",
      "4  z12pcvix4zedcjvyb04ccr1r0mr2g5xwyng0k    PATRICK_TW   \n",
      "\n",
      "                         DATE  \\\n",
      "0  2015-05-28T21:39:52.376000   \n",
      "1  2015-05-28T20:07:20.610000   \n",
      "2  2015-05-28T19:23:35.355000   \n",
      "3  2015-05-28T17:49:35.294000   \n",
      "4  2015-05-28T16:28:26.818000   \n",
      "\n",
      "                                             CONTENT  CLASS  \n",
      "0  <a href=\"http://www.youtube.com/watch?v=KQ6zr6...      0  \n",
      "1                                   wierd but funny﻿      0  \n",
      "2  Hey guys, I&#39;m a human.<br /><br /><br />Bu...      1  \n",
      "3       Party Rock....lol...who wants to shuffle!!!﻿      0  \n",
      "4                                        Party rock﻿      0  \n",
      "<class 'pandas.core.frame.DataFrame'>\n",
      "RangeIndex: 438 entries, 0 to 437\n",
      "Data columns (total 5 columns):\n",
      " #   Column      Non-Null Count  Dtype \n",
      "---  ------      --------------  ----- \n",
      " 0   COMMENT_ID  438 non-null    object\n",
      " 1   AUTHOR      438 non-null    object\n",
      " 2   DATE        438 non-null    object\n",
      " 3   CONTENT     438 non-null    object\n",
      " 4   CLASS       438 non-null    int64 \n",
      "dtypes: int64(1), object(4)\n",
      "memory usage: 17.2+ KB\n",
      "None\n"
     ]
    },
    {
     "name": "stderr",
     "output_type": "stream",
     "text": [
      "[nltk_data] Downloading package punkt to\n",
      "[nltk_data]     C:\\Users\\badru\\AppData\\Roaming\\nltk_data...\n",
      "[nltk_data]   Package punkt is already up-to-date!\n",
      "[nltk_data] Downloading package stopwords to\n",
      "[nltk_data]     C:\\Users\\badru\\AppData\\Roaming\\nltk_data...\n",
      "[nltk_data]   Package stopwords is already up-to-date!\n"
     ]
    }
   ],
   "source": [
    "nltk.download('punkt')\n",
    "nltk.download('stopwords')\n",
    "\n",
    "# Load and explore data\n",
    "data = pd.read_csv('./Youtube03-LMFAO.csv')\n",
    "print(data.head())\n",
    "print(data.info())\n",
    "# Load stopwords into a set for faster access\n",
    "stop_words = set(stopwords.words('english'))\n",
    "\n",
    "# Function to clean text data\n",
    "def clean_text(text):\n",
    "    text = re.sub(r'<.*?>', '', text)  # Remove HTML tags\n",
    "    text = text.lower()  # Convert to lowercase\n",
    "    text = re.sub(r'\\W', ' ', text)  # Remove punctuation\n",
    "    text = re.sub(r'http\\S+', '', text)  # Remove URLs\n",
    "    text = re.sub(r'\\d+', 'number', text)  # Replace numbers\n",
    "    return text\n",
    "\n",
    "# Function to preprocess data using NLTK\n",
    "def nltk_preprocess(text):\n",
    "    # Tokenization\n",
    "    tokens = word_tokenize(text)\n",
    "    # Removing stopwords\n",
    "    tokens = [word for word in tokens if word not in stop_words]\n",
    "    return ' '.join(tokens)\n",
    "\n",
    "\n",
    "# Apply cleaning and preprocessing to the CONTENT column\n",
    "data['CONTENT'] = data['CONTENT'].apply(clean_text)\n",
    "data['CONTENT'] = data['CONTENT'].apply(nltk_preprocess)"
   ]
  },
  {
   "cell_type": "markdown",
   "id": "34de844a",
   "metadata": {},
   "source": [
    "# Data Preparation"
   ]
  },
  {
   "cell_type": "markdown",
   "id": "622b50e6",
   "metadata": {},
   "source": [
    "### Before Applying TF-DIF"
   ]
  },
  {
   "cell_type": "code",
   "execution_count": 48,
   "id": "2611d3fd",
   "metadata": {},
   "outputs": [
    {
     "name": "stdout",
     "output_type": "stream",
     "text": [
      "Shape of Count Vectors: (438, 802)\n",
      "Sample feature names: ['__' '______________________________if' 'abomination' 'abonner' 'act'\n",
      " 'actors' 'actresses' 'actually' 'adoult' 'advertisements']\n",
      "Most common tokens: [('check', 143), ('number', 137), ('youtube', 128), ('video', 117), ('song', 52), ('subscribe', 52), ('like', 49), ('channel', 31), ('love', 30), ('party', 26)]\n"
     ]
    }
   ],
   "source": [
    "# Extracting features from text\n",
    "count_vectorizer = CountVectorizer()\n",
    "# count_vectorizer = CountVectorizer(max_df=0.95, min_df=2, ngram_range=(1, 2))\n",
    "# count_vectorizer = CountVectorizer(ngram_range=(1, 2))  # for bi-grams\n",
    "# count_vectorizer = CountVectorizer(min_df=200) \n",
    "\n",
    "# tfidf_vectorizer = TfidfVectorizer(ngram_range=(1, 2), stop_words='english')\n",
    "# X_tfidf = tfidf_vectorizer.fit_transform(data['CONTENT'])\n",
    "\n",
    "\n",
    "X_counts = count_vectorizer.fit_transform(data['CONTENT'])\n",
    "print(\"Shape of Count Vectors:\", X_counts.shape)\n",
    "\n",
    "\n",
    "feature_names = count_vectorizer.get_feature_names_out()\n",
    "\n",
    "# Print a sample of feature names (tokens)\n",
    "print(\"Sample feature names:\", feature_names[:10])  \n",
    "\n",
    "# Summarize the occurrence of the tokens\n",
    "token_counts = X_counts.sum(axis=0)\n",
    "token_frequency = [(feature_names[i], token_counts[0, i]) for i in range(token_counts.shape[1])]\n",
    "sorted_token_frequency = sorted(token_frequency, key=lambda x: x[1], reverse=True)\n",
    "\n",
    "# Print the 10 most common tokens\n",
    "print(\"Most common tokens:\", sorted_token_frequency[:10])"
   ]
  },
  {
   "cell_type": "code",
   "execution_count": 49,
   "id": "6e91f39f",
   "metadata": {},
   "outputs": [
    {
     "name": "stdout",
     "output_type": "stream",
     "text": [
      "Shape of TFIDF Vectors: (438, 802)\n",
      "Sample of TF-IDF values for the first document:\n",
      "  (0, 496)\t0.6472851526995473\n",
      "  (0, 470)\t0.589751892421225\n",
      "  (0, 58)\t0.48292301299514356\n",
      "Average TF-IDF value for all words in the corpus:\n",
      "[[0.00098588 0.00058937 0.00109537 0.00030282 0.00022822 0.00037053\n",
      "  0.00037053 0.0011715  0.00039686 0.00037792 0.00107972 0.00194348\n",
      "  0.00134243 0.00121697 0.00046835 0.00132734 0.00038899 0.00128818\n",
      "  0.00077206 0.00022822 0.00022822 0.00202535 0.00122036 0.00034818\n",
      "  0.00289355 0.0013555  0.00210521 0.000699   0.00039686 0.0005596\n",
      "  0.0005596  0.00078013 0.0005596  0.00075583 0.00100145 0.00100559\n",
      "  0.00060731 0.00140345 0.00145776 0.00126774 0.01218587 0.00321373\n",
      "  0.00196089 0.00712493 0.00123653 0.0011972  0.0009812  0.00108377\n",
      "  0.00044146 0.00058444 0.00039686 0.0009242  0.00158472 0.00204755\n",
      "  0.001189   0.00034818 0.00084618 0.00364005 0.01726588 0.00087199\n",
      "  0.00108377 0.00432736 0.00140505 0.00083385 0.00061708 0.00099786\n",
      "  0.00091885 0.00141233 0.00062325 0.0010104  0.001346   0.00072867\n",
      "  0.00136453 0.00087577 0.00072785 0.00056247 0.00082776 0.0005296\n",
      "  0.00039686 0.00022822 0.0008132  0.0009743  0.0016144  0.00154788\n",
      "  0.00153113 0.00037053 0.0010765  0.00022822 0.00042309 0.00082858\n",
      "  0.00037053 0.00078013 0.00103755 0.00285693 0.00038899 0.02086687\n",
      "  0.00042309 0.00157572 0.00030282 0.14195066 0.00139578 0.00078013\n",
      "  0.00042309 0.00037792 0.00126774 0.00037053 0.00093394 0.00037792\n",
      "  0.00037792 0.00079877 0.00386648 0.00288005 0.00263087 0.01751502\n",
      "  0.00114556 0.00106419 0.00037792 0.00058444 0.00034818 0.00022822\n",
      "  0.00037792 0.00037053 0.00045644 0.00058937 0.01594163 0.00228311\n",
      "  0.00162085 0.00038899 0.00251746 0.00101104 0.00174459 0.00097607\n",
      "  0.00055574 0.0041995  0.00037053 0.0009367  0.00228311 0.00044146\n",
      "  0.00155043 0.0016144  0.01247798 0.00085817 0.00095177 0.00095177\n",
      "  0.00277739 0.00169345 0.00098182 0.0010871  0.00121588 0.00037053\n",
      "  0.00044146 0.0005596  0.00143575 0.0012545  0.00042309 0.00074835\n",
      "  0.00122867 0.00074835 0.00082073 0.00056635 0.00112624 0.00064784\n",
      "  0.00064784 0.00058444 0.00083924 0.00062325 0.00022822 0.00138083\n",
      "  0.00042309 0.00038899 0.00140631 0.00074105 0.0005596  0.00273824\n",
      "  0.00135419 0.00135419 0.00037792 0.0010866  0.00094813 0.00037053\n",
      "  0.00038899 0.00248574 0.00022822 0.00044146 0.0016647  0.00099889\n",
      "  0.0008097  0.00057667 0.00037053 0.00037053 0.00448627 0.00131603\n",
      "  0.01358064 0.00469774 0.00291063 0.00578577 0.00078013 0.00516028\n",
      "  0.00038899 0.0016144  0.00101104 0.00097607 0.00034818 0.00062231\n",
      "  0.00037792 0.00094813 0.001241   0.00061708 0.00037792 0.00034818\n",
      "  0.0012328  0.00060564 0.00445752 0.00039686 0.00195592 0.0021184\n",
      "  0.00042309 0.00112333 0.00122867 0.00062325 0.0005296  0.00037053\n",
      "  0.00045644 0.00045644 0.00022822 0.00073554 0.00137869 0.00251479\n",
      "  0.00107972 0.00112624 0.00022822 0.00152799 0.00087199 0.00022822\n",
      "  0.00101496 0.00217728 0.00039686 0.00039686 0.00039686 0.00171981\n",
      "  0.00106419 0.00149671 0.00126774 0.00259901 0.00205407 0.00701329\n",
      "  0.00042309 0.00191673 0.00519091 0.00044146 0.00058937 0.00110343\n",
      "  0.00162085 0.00034818 0.00095177 0.0014201  0.001346   0.00062231\n",
      "  0.0090704  0.00148005 0.00056635 0.00038899 0.00038899 0.00270912\n",
      "  0.00319492 0.00057667 0.00098182 0.00543361 0.00074835 0.00064784\n",
      "  0.00536052 0.00099786 0.00062837 0.02020343 0.0005596  0.00096972\n",
      "  0.00228311 0.0033235  0.00164889 0.00256592 0.00055574 0.00131635\n",
      "  0.0009122  0.00351272 0.00621603 0.00044146 0.00058444 0.00108377\n",
      "  0.00152957 0.0010866  0.0012154  0.00121786 0.00181469 0.00205028\n",
      "  0.00162923 0.00279034 0.00124357 0.00411467 0.00064784 0.00039686\n",
      "  0.00187431 0.00478423 0.00261462 0.00056635 0.00153799 0.00216601\n",
      "  0.00195592 0.0005596  0.00072867 0.0009242  0.00022822 0.00112624\n",
      "  0.00034818 0.00062325 0.00022822 0.00039686 0.00097853 0.00064784\n",
      "  0.00077798 0.0008132  0.0005596  0.00087112 0.00034818 0.00042309\n",
      "  0.00056247 0.00030282 0.00057667 0.00112474 0.00277935 0.00114155\n",
      "  0.00049192 0.0016237  0.00228311 0.00073554 0.00058444 0.00097908\n",
      "  0.001142   0.0009242  0.00030282 0.00083385 0.00104709 0.00046835\n",
      "  0.00100145 0.00125815 0.0005888  0.00085817 0.00195592 0.00022822\n",
      "  0.0008132  0.00072785 0.00034818 0.00058937 0.00116736 0.00200725\n",
      "  0.00119145 0.00049192 0.00058937 0.00175795 0.0012545  0.00037053\n",
      "  0.00082858 0.00537971 0.00098801 0.00062837 0.00072867 0.00084524\n",
      "  0.00121588 0.00083385 0.00140345 0.0012154  0.00270482 0.00184116\n",
      "  0.00122364 0.00237542 0.00332379 0.00055574 0.00219658 0.00109537\n",
      "  0.03718512 0.00211529 0.00228311 0.00228311 0.00228311 0.00044146\n",
      "  0.0010871  0.00212294 0.00097853 0.00095177 0.00069635 0.00211529\n",
      "  0.00082776 0.01198017 0.00034818 0.00078013 0.00195592 0.00553784\n",
      "  0.00566519 0.00072867 0.0011657  0.00204755 0.00104709 0.00186689\n",
      "  0.00112571 0.02594936 0.00228311 0.00313744 0.00343476 0.00178633\n",
      "  0.00082776 0.00161929 0.00525835 0.00219733 0.0033092  0.00046835\n",
      "  0.00146768 0.00056635 0.00039686 0.00062837 0.001461   0.00228311\n",
      "  0.00100624 0.00030282 0.00115141 0.0010871  0.00030282 0.00042309\n",
      "  0.00126427 0.00060731 0.00061708 0.00250273 0.00122036 0.00141233\n",
      "  0.00137843 0.00116025 0.00136971 0.00374699 0.00046835 0.00148538\n",
      "  0.00135811 0.00037792 0.0009334  0.00022822 0.0014799  0.00879362\n",
      "  0.01301048 0.0013705  0.00480939 0.00042309 0.00207134 0.00045644\n",
      "  0.00142617 0.00185396 0.00155212 0.0010866  0.00329869 0.0013929\n",
      "  0.00022822 0.00258554 0.00094813 0.01380381 0.00058937 0.00180877\n",
      "  0.00087199 0.00099889 0.00122036 0.00044146 0.00056635 0.00112624\n",
      "  0.00022822 0.00039686 0.06382265 0.00132613 0.00217728 0.00193849\n",
      "  0.00086093 0.00211975 0.00030282 0.00030282 0.00030282 0.00144659\n",
      "  0.00074835 0.00037792 0.00030282 0.0016726  0.00097607 0.0009743\n",
      "  0.00819012 0.00793859 0.00499482 0.00037792 0.0016144  0.00148538\n",
      "  0.0009044  0.00037053 0.00094813 0.00058937 0.00290414 0.02177581\n",
      "  0.00279597 0.00074996 0.00022822 0.00068466 0.00057667 0.00037792\n",
      "  0.00214678 0.00044146 0.00491665 0.00034818 0.00037053 0.00037792\n",
      "  0.00156002 0.00073554 0.00114155 0.00072867 0.00038899 0.00072867\n",
      "  0.00056635 0.00064784 0.00181469 0.0005596  0.04399914 0.00120121\n",
      "  0.00030282 0.00058937 0.0151245  0.00130274 0.00152223 0.00152223\n",
      "  0.00231129 0.00060564 0.00135811 0.00034818 0.00022822 0.00073554\n",
      "  0.00120121 0.0005596  0.00044146 0.0006294  0.00037053 0.00114743\n",
      "  0.00022822 0.00037053 0.00042309 0.00058937 0.00058444 0.00034818\n",
      "  0.00044146 0.00114155 0.00195592 0.00034818 0.00039686 0.00560308\n",
      "  0.00049192 0.00114111 0.00296279 0.00087199 0.00087199 0.00127881\n",
      "  0.00058444 0.00291609 0.00641734 0.00037053 0.00037792 0.00262939\n",
      "  0.00189756 0.00111481 0.0006294  0.00022822 0.00042309 0.00034818\n",
      "  0.00037053 0.00022822 0.00034818 0.00126513 0.00467999 0.00044146\n",
      "  0.01398188 0.00116736 0.00146893 0.00039686 0.00038899 0.00124357\n",
      "  0.00058937 0.00039686 0.00112571 0.00350016 0.0025193  0.00039686\n",
      "  0.00037792 0.00030282 0.00062231 0.0034098  0.00060731 0.00072867\n",
      "  0.00022822 0.00022822 0.00022822 0.0009242  0.00261752 0.00251491\n",
      "  0.0063723  0.00037792 0.00152456 0.00257542 0.00039686 0.00152756\n",
      "  0.0014201  0.01275065 0.00112474 0.00197001 0.0044477  0.00527809\n",
      "  0.0016144  0.001398   0.00037053 0.00038899 0.00037792 0.00074835\n",
      "  0.00058937 0.00044146 0.00062325 0.00100145 0.00100145 0.00062837\n",
      "  0.0005596  0.00058937 0.00022822 0.03942249 0.00077206 0.00667234\n",
      "  0.00151428 0.00138083 0.00163434 0.00235235 0.0017339  0.00044146\n",
      "  0.00085817 0.00022822 0.00038899 0.00100373 0.00098588 0.00098588\n",
      "  0.00022822 0.00112474 0.00022822 0.00196497 0.00148015 0.00044146\n",
      "  0.00203712 0.00739823 0.00408853 0.0005596  0.00115141 0.00073554\n",
      "  0.00044146 0.00091132 0.00218963 0.00101104 0.00241785 0.0015553\n",
      "  0.03920394 0.00320819 0.00818821 0.00104709 0.00121697 0.0015699\n",
      "  0.0009122  0.00297776 0.00137843 0.00254849 0.00228311 0.00068466\n",
      "  0.0006294  0.00077798 0.00073554 0.00030282 0.0010104  0.00091132\n",
      "  0.00082073 0.00061708 0.00091885 0.00341048 0.00055574 0.00037053\n",
      "  0.00061708 0.00137439 0.00228311 0.00281717 0.00402093 0.00089952\n",
      "  0.00083385 0.00076399 0.00037792 0.00165554 0.00114155 0.00079372\n",
      "  0.00221659 0.00099366 0.00060731 0.00046835 0.00179753 0.00715746\n",
      "  0.00099889 0.00044146 0.00748079 0.00312707 0.00058937 0.00148005\n",
      "  0.00056635 0.0008132  0.00276883 0.00167824 0.00254185 0.00039686\n",
      "  0.00181469 0.00037792 0.00034818 0.0010104  0.000699   0.00076399\n",
      "  0.00076399 0.00086093 0.00022822 0.00082776 0.00056247 0.00098588\n",
      "  0.00123312 0.00099008 0.00126858 0.00275544 0.00217728 0.00055574\n",
      "  0.00100559 0.000699   0.00042309 0.0016144  0.00064784 0.12979631\n",
      "  0.00030282 0.00681515 0.00204637 0.00030282 0.00155311 0.00131635\n",
      "  0.01057163 0.00118959 0.00098182 0.0005596  0.00060564 0.00030282\n",
      "  0.00119145 0.00480939 0.00426637 0.0005888  0.00131236 0.00110944\n",
      "  0.00037792 0.00359773 0.00172602 0.00212875 0.01552569 0.00056635\n",
      "  0.00044146 0.00182264 0.00072785 0.00195782 0.00046835 0.00124461\n",
      "  0.00132277 0.00175844 0.00083666 0.00039686 0.00060999 0.00072867\n",
      "  0.00022822 0.00037053 0.00369073 0.00037053 0.00192208 0.00687148\n",
      "  0.00228311 0.00206434 0.00107375 0.00129561 0.00398979 0.0005888\n",
      "  0.00060731 0.00439744 0.00171668 0.00629393 0.00034818 0.00100373\n",
      "  0.0005888  0.0015224  0.00261108 0.1436366  0.00072785 0.00030282\n",
      "  0.00060564 0.00142352 0.0011972  0.00195592]]\n"
     ]
    }
   ],
   "source": [
    "# Applying TF-IDF\n",
    "tfidf_transformer = TfidfTransformer()\n",
    "X_tfidf = tfidf_transformer.fit_transform(X_counts)\n",
    "print(\"Shape of TFIDF Vectors:\", X_tfidf.shape)\n",
    "\n",
    "# Display some sample TF-IDF values for the first document\n",
    "print(\"Sample of TF-IDF values for the first document:\")\n",
    "print(X_tfidf[0])\n",
    "\n",
    "# Display the average TF-IDF value for words in all documents (optional)\n",
    "average_tfidf = X_tfidf.mean(axis=0)\n",
    "print(\"Average TF-IDF value for all words in the corpus:\")\n",
    "print(average_tfidf)"
   ]
  },
  {
   "cell_type": "markdown",
   "id": "3ccc5d2a",
   "metadata": {},
   "source": [
    "### Split the data into train and test"
   ]
  },
  {
   "cell_type": "code",
   "execution_count": 50,
   "id": "ce861b46",
   "metadata": {},
   "outputs": [],
   "source": [
    "# Shuffle and split data\n",
    "data_shuffled = data.sample(frac=1).reset_index(drop=True)\n",
    "X = X_tfidf\n",
    "y = data_shuffled['CLASS']\n",
    "train_size = int(0.75 * len(data))\n",
    "X_train, X_test = X[:train_size], X[train_size:]\n",
    "y_train, y_test = y[:train_size], y[train_size:]\n"
   ]
  },
  {
   "cell_type": "markdown",
   "id": "61e57ac0",
   "metadata": {},
   "source": [
    "# Model Training"
   ]
  },
  {
   "cell_type": "markdown",
   "id": "7ba1263a",
   "metadata": {},
   "source": [
    "### Create a multi-nomial Naive Bayes' Model"
   ]
  },
  {
   "cell_type": "code",
   "execution_count": 51,
   "id": "2ba39b76",
   "metadata": {},
   "outputs": [],
   "source": [
    "classifier = MultinomialNB(alpha=0.1).fit(X_train, y_train)\n",
    "\n",
    "# Cross-validation\n",
    "# accuracy_scores = cross_val_score(classifier, X_train, y_train, cv=5)\n",
    "# print(\"Mean accuracy from cross-validation:\", accuracy_scores.mean())\n"
   ]
  },
  {
   "cell_type": "markdown",
   "id": "34e71c9f",
   "metadata": {},
   "source": [
    "### Predict on test set"
   ]
  },
  {
   "cell_type": "code",
   "execution_count": 52,
   "id": "27519d90",
   "metadata": {},
   "outputs": [
    {
     "name": "stdout",
     "output_type": "stream",
     "text": [
      "Mean accuracy from cross-validation: 0.5092773892773893\n",
      "Confusion Matrix:\n",
      " [[30 23]\n",
      " [33 24]]\n",
      "Accuracy: 0.4909090909090909\n"
     ]
    }
   ],
   "source": [
    "\n",
    "skf = StratifiedKFold(n_splits=5)\n",
    "accuracy_scores = cross_val_score(classifier, X_train, y_train, cv=skf)\n",
    "print(\"Mean accuracy from cross-validation:\", accuracy_scores.mean())\n",
    "\n",
    "# Model testing\n",
    "y_pred = classifier.predict(X_test)\n",
    "print(\"Confusion Matrix:\\n\", confusion_matrix(y_test, y_pred))\n",
    "print(\"Accuracy:\", accuracy_score(y_test, y_pred))"
   ]
  },
  {
   "cell_type": "code",
   "execution_count": 53,
   "id": "2f17c163",
   "metadata": {},
   "outputs": [
    {
     "data": {
      "text/plain": [
       "0.4909090909090909"
      ]
     },
     "execution_count": 53,
     "metadata": {},
     "output_type": "execute_result"
    }
   ],
   "source": [
    "accuracy_score(y_test, y_pred)"
   ]
  },
  {
   "cell_type": "markdown",
   "id": "182087c2",
   "metadata": {},
   "source": [
    "### Visualize confusion matrix"
   ]
  },
  {
   "cell_type": "code",
   "execution_count": 54,
   "id": "8aee58a8",
   "metadata": {},
   "outputs": [],
   "source": [
    "conf_mat = confusion_matrix(y_test, y_pred)"
   ]
  },
  {
   "cell_type": "code",
   "execution_count": 55,
   "id": "19a334d4",
   "metadata": {},
   "outputs": [
    {
     "data": {
      "text/plain": [
       "array([[30, 23],\n",
       "       [33, 24]], dtype=int64)"
      ]
     },
     "execution_count": 55,
     "metadata": {},
     "output_type": "execute_result"
    }
   ],
   "source": [
    "conf_mat"
   ]
  },
  {
   "cell_type": "code",
   "execution_count": 56,
   "id": "795398da",
   "metadata": {},
   "outputs": [],
   "source": [
    "\n",
    "# Assuming 'classifier' is trained Naive Bayes model\n",
    "conf_mat_df = pd.DataFrame(conf_mat, columns=classifier.classes_, index=classifier.classes_)\n",
    "\n"
   ]
  },
  {
   "cell_type": "code",
   "execution_count": 57,
   "id": "b5871c63",
   "metadata": {},
   "outputs": [
    {
     "data": {
      "image/png": "[encoded data removed]",
      "text/plain": [
       "<Figure size 640x480 with 2 Axes>"
      ]
     },
     "metadata": {},
     "output_type": "display_data"
    }
   ],
   "source": [
    "sns.heatmap(conf_mat)\n",
    "plt.show()"
   ]
  },
  {
   "cell_type": "markdown",
   "id": "f0664a25",
   "metadata": {},
   "source": [
    "### Save vectorizer and model object"
   ]
  },
  {
   "cell_type": "code",
   "execution_count": 58,
   "id": "e0ff5a18",
   "metadata": {},
   "outputs": [],
   "source": [
    "import pickle\n",
    "\n",
    "# Save the CountVectorizer\n",
    "with open(\"Output/count_vectf.pkl\", \"wb\") as f:\n",
    "    pickle.dump(count_vectorizer, f)\n",
    "\n",
    "# Save the Naive Bayes classifier\n",
    "with open(\"Output/nbf.pkl\", \"wb\") as f:\n",
    "    pickle.dump(classifier, f)\n"
   ]
  },
  {
   "cell_type": "markdown",
   "id": "d3caf556",
   "metadata": {},
   "source": [
    "# Prediction"
   ]
  },
  {
   "cell_type": "code",
   "execution_count": 59,
   "id": "a2c06f08",
   "metadata": {},
   "outputs": [
    {
     "data": {
      "text/plain": [
       "'man song really get bones one minute number nearly dosing sleep next number shuffling like crazy hot feet xd'"
      ]
     },
     "execution_count": 59,
     "metadata": {},
     "output_type": "execute_result"
    }
   ],
   "source": [
    "data[\"CONTENT\"][141]"
   ]
  },
  {
   "cell_type": "code",
   "execution_count": 60,
   "metadata": {},
   "outputs": [
    {
     "data": {
      "text/plain": [
       "0"
      ]
     },
     "execution_count": 60,
     "metadata": {},
     "output_type": "execute_result"
    }
   ],
   "source": [
    "data[\"CLASS\"][141]"
   ]
  },
  {
   "cell_type": "markdown",
   "id": "ce3a2d38",
   "metadata": {},
   "source": [
    "### Load the vectorizer and model objects"
   ]
  },
  {
   "cell_type": "code",
   "execution_count": 62,
   "id": "b95a5dc8",
   "metadata": {},
   "outputs": [],
   "source": [
    "vect = pickle.load(open(\"Output/count_vect.pkl\", \"rb\"))\n",
    "model = pickle.load(open(\"Output/nb.pkl\", \"rb\"))"
   ]
  },
  {
   "cell_type": "markdown",
   "id": "e4d27994",
   "metadata": {},
   "source": [
    "### Process test data"
   ]
  },
  {
   "cell_type": "code",
   "execution_count": 64,
   "id": "303543e2",
   "metadata": {},
   "outputs": [
    {
     "name": "stdout",
     "output_type": "stream",
     "text": [
      "\n",
      "Comment: I love this song, it reminds me of summer! \n",
      "Predicted category: Not Spam\n",
      "\n",
      "Comment: This video is very well made, kudos to the director. \n",
      "Predicted category: Spam\n",
      "\n",
      "Comment: Check out my profile for free music! \n",
      "Predicted category: Spam\n",
      "\n",
      "Comment: Amazing content as always, just subscribed! \n",
      "Predicted category: Spam\n",
      "\n",
      "Comment: Great tutorial, learned a lot from this. \n",
      "Predicted category: Not Spam\n",
      "\n",
      "Comment: Free games and gift cards, click on my profile! \n",
      "Predicted category: Not Spam\n"
     ]
    }
   ],
   "source": [
    "# Test the model with new comments\n",
    "new_comments = [\n",
    "    'I love this song, it reminds me of summer!',  # non-spam\n",
    "    'This video is very well made, kudos to the director.',  # non-spam\n",
    "    'Check out my profile for free music!',  # spam\n",
    "    'Amazing content as always, just subscribed!',  # non-spam\n",
    "    'Great tutorial, learned a lot from this.',  # non-spam\n",
    "    'Free games and gift cards, click on my profile!',  # spam\n",
    "]\n",
    "\n",
    "# Preprocess new comments\n",
    "new_comments_processed = [clean_text(comment) for comment in new_comments]\n",
    "new_comments_processed = [nltk_preprocess(comment) for comment in new_comments_processed]\n",
    "\n",
    "# Transform new comments using the same vectorizer and transformer\n",
    "new_comments_counts = count_vectorizer.transform(new_comments_processed)\n",
    "new_comments_tfidf = tfidf_transformer.transform(new_comments_counts)\n",
    "\n",
    "# Predict the class for new comments\n",
    "new_predictions = classifier.predict(new_comments_tfidf)\n",
    "predictions_labels = ['Spam' if label == 1 else 'Not Spam' for label in new_predictions]\n",
    "\n",
    "# Print the predictions\n",
    "for comment, prediction in zip(new_comments, predictions_labels):\n",
    "    print('\\nComment:', comment, '\\nPredicted category:', prediction)"
   ]
  },
  {
   "cell_type": "markdown",
   "id": "75f3cb08",
   "metadata": {},
   "source": [
    "### Vectorize test data"
   ]
  },
  {
   "cell_type": "code",
   "execution_count": 141,
   "id": "8cf4a7a3",
   "metadata": {},
   "outputs": [
    {
     "name": "stdout",
     "output_type": "stream",
     "text": [
      "Shape of Count Vectors: (438, 802)\n",
      "Shape of TFIDF Vectors: (438, 802)\n"
     ]
    }
   ],
   "source": [
    "# Extracting features from text\n",
    "count_vectorizer = CountVectorizer()\n",
    "X_counts = count_vectorizer.fit_transform(data['CONTENT'])\n",
    "print(\"Shape of Count Vectors:\", X_counts.shape)\n",
    "\n",
    "# Applying TF-IDF\n",
    "tfidf_transformer = TfidfTransformer()\n",
    "X_tfidf = tfidf_transformer.fit_transform(X_counts)\n",
    "print(\"Shape of TFIDF Vectors:\", X_tfidf.shape)\n"
   ]
  },
  {
   "cell_type": "code",
   "execution_count": 142,
   "metadata": {},
   "outputs": [
    {
     "name": "stdout",
     "output_type": "stream",
     "text": [
      "\n",
      "Comment: I love this song, it reminds me of summer! \n",
      "Predicted category: Spam\n",
      "\n",
      "Comment: This video is very well made, kudos to the director. \n",
      "Predicted category: Not Spam\n",
      "\n",
      "Comment: Check out my profile for free music! \n",
      "Predicted category: Spam\n",
      "\n",
      "Comment: Amazing content as always, just subscribed! \n",
      "Predicted category: Not Spam\n",
      "\n",
      "Comment: Great tutorial, learned a lot from this. \n",
      "Predicted category: Not Spam\n",
      "\n",
      "Comment: Free games and gift cards, click on my profile! \n",
      "Predicted category: Not Spam\n"
     ]
    }
   ],
   "source": [
    "# Predict the class for new comments\n",
    "new_predictions = classifier.predict(new_comments_tfidf)\n",
    "predictions_labels = ['Spam' if label == 1 else 'Not Spam' for label in new_predictions]\n",
    "\n",
    "# Print the predictions\n",
    "for comment, prediction in zip(new_comments, predictions_labels):\n",
    "    print('\\nComment:', comment, '\\nPredicted category:', prediction)"
   ]
  }
 ],
 "metadata": {
  "kernelspec": {
   "display_name": "Python 3",
   "language": "python",
   "name": "python3"
  },
  "language_info": {
   "codemirror_mode": {
    "name": "ipython",
    "version": 3
   },
   "file_extension": ".py",
   "mimetype": "text/x-python",
   "name": "python",
   "nbconvert_exporter": "python",
   "pygments_lexer": "ipython3",
   "version": "3.11.2"
  }
 },
 "nbformat": 4,
 "nbformat_minor": 5
}
